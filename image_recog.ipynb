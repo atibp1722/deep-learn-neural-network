{
 "cells": [
  {
   "cell_type": "code",
   "execution_count": 6,
   "id": "e19cc7f9-fc73-4c84-8a7c-72a483457460",
   "metadata": {},
   "outputs": [
    {
     "name": "stdout",
     "output_type": "stream",
     "text": [
      "Requirement already satisfied: tensorflow in c:\\users\\atibp\\anaconda3\\lib\\site-packages (2.19.0)\n",
      "Requirement already satisfied: keras in c:\\users\\atibp\\anaconda3\\lib\\site-packages (3.9.2)\n",
      "Collecting split-folders\n",
      "  Downloading split_folders-0.5.1-py3-none-any.whl.metadata (6.2 kB)\n",
      "Collecting opencv-python\n",
      "  Downloading opencv_python-4.11.0.86-cp37-abi3-win_amd64.whl.metadata (20 kB)\n",
      "Requirement already satisfied: absl-py>=1.0.0 in c:\\users\\atibp\\anaconda3\\lib\\site-packages (from tensorflow) (2.2.2)\n",
      "Requirement already satisfied: astunparse>=1.6.0 in c:\\users\\atibp\\anaconda3\\lib\\site-packages (from tensorflow) (1.6.3)\n",
      "Requirement already satisfied: flatbuffers>=24.3.25 in c:\\users\\atibp\\anaconda3\\lib\\site-packages (from tensorflow) (25.2.10)\n",
      "Requirement already satisfied: gast!=0.5.0,!=0.5.1,!=0.5.2,>=0.2.1 in c:\\users\\atibp\\anaconda3\\lib\\site-packages (from tensorflow) (0.6.0)\n",
      "Requirement already satisfied: google-pasta>=0.1.1 in c:\\users\\atibp\\anaconda3\\lib\\site-packages (from tensorflow) (0.2.0)\n",
      "Requirement already satisfied: libclang>=13.0.0 in c:\\users\\atibp\\anaconda3\\lib\\site-packages (from tensorflow) (18.1.1)\n",
      "Requirement already satisfied: opt-einsum>=2.3.2 in c:\\users\\atibp\\anaconda3\\lib\\site-packages (from tensorflow) (3.4.0)\n",
      "Requirement already satisfied: packaging in c:\\users\\atibp\\anaconda3\\lib\\site-packages (from tensorflow) (24.1)\n",
      "Requirement already satisfied: protobuf!=4.21.0,!=4.21.1,!=4.21.2,!=4.21.3,!=4.21.4,!=4.21.5,<6.0.0dev,>=3.20.3 in c:\\users\\atibp\\anaconda3\\lib\\site-packages (from tensorflow) (4.25.3)\n",
      "Requirement already satisfied: requests<3,>=2.21.0 in c:\\users\\atibp\\anaconda3\\lib\\site-packages (from tensorflow) (2.32.3)\n",
      "Requirement already satisfied: setuptools in c:\\users\\atibp\\anaconda3\\lib\\site-packages (from tensorflow) (75.1.0)\n",
      "Requirement already satisfied: six>=1.12.0 in c:\\users\\atibp\\anaconda3\\lib\\site-packages (from tensorflow) (1.16.0)\n",
      "Requirement already satisfied: termcolor>=1.1.0 in c:\\users\\atibp\\anaconda3\\lib\\site-packages (from tensorflow) (3.1.0)\n",
      "Requirement already satisfied: typing-extensions>=3.6.6 in c:\\users\\atibp\\anaconda3\\lib\\site-packages (from tensorflow) (4.11.0)\n",
      "Requirement already satisfied: wrapt>=1.11.0 in c:\\users\\atibp\\anaconda3\\lib\\site-packages (from tensorflow) (1.14.1)\n",
      "Requirement already satisfied: grpcio<2.0,>=1.24.3 in c:\\users\\atibp\\anaconda3\\lib\\site-packages (from tensorflow) (1.71.0)\n",
      "Requirement already satisfied: tensorboard~=2.19.0 in c:\\users\\atibp\\anaconda3\\lib\\site-packages (from tensorflow) (2.19.0)\n",
      "Requirement already satisfied: numpy<2.2.0,>=1.26.0 in c:\\users\\atibp\\anaconda3\\lib\\site-packages (from tensorflow) (1.26.4)\n",
      "Requirement already satisfied: h5py>=3.11.0 in c:\\users\\atibp\\anaconda3\\lib\\site-packages (from tensorflow) (3.11.0)\n",
      "Requirement already satisfied: ml-dtypes<1.0.0,>=0.5.1 in c:\\users\\atibp\\anaconda3\\lib\\site-packages (from tensorflow) (0.5.1)\n",
      "Requirement already satisfied: rich in c:\\users\\atibp\\anaconda3\\lib\\site-packages (from keras) (13.7.1)\n",
      "Requirement already satisfied: namex in c:\\users\\atibp\\anaconda3\\lib\\site-packages (from keras) (0.0.9)\n",
      "Requirement already satisfied: optree in c:\\users\\atibp\\anaconda3\\lib\\site-packages (from keras) (0.15.0)\n",
      "Requirement already satisfied: wheel<1.0,>=0.23.0 in c:\\users\\atibp\\anaconda3\\lib\\site-packages (from astunparse>=1.6.0->tensorflow) (0.44.0)\n",
      "Requirement already satisfied: charset-normalizer<4,>=2 in c:\\users\\atibp\\anaconda3\\lib\\site-packages (from requests<3,>=2.21.0->tensorflow) (3.3.2)\n",
      "Requirement already satisfied: idna<4,>=2.5 in c:\\users\\atibp\\anaconda3\\lib\\site-packages (from requests<3,>=2.21.0->tensorflow) (3.7)\n",
      "Requirement already satisfied: urllib3<3,>=1.21.1 in c:\\users\\atibp\\anaconda3\\lib\\site-packages (from requests<3,>=2.21.0->tensorflow) (2.2.3)\n",
      "Requirement already satisfied: certifi>=2017.4.17 in c:\\users\\atibp\\anaconda3\\lib\\site-packages (from requests<3,>=2.21.0->tensorflow) (2024.12.14)\n",
      "Requirement already satisfied: markdown>=2.6.8 in c:\\users\\atibp\\anaconda3\\lib\\site-packages (from tensorboard~=2.19.0->tensorflow) (3.4.1)\n",
      "Requirement already satisfied: tensorboard-data-server<0.8.0,>=0.7.0 in c:\\users\\atibp\\anaconda3\\lib\\site-packages (from tensorboard~=2.19.0->tensorflow) (0.7.2)\n",
      "Requirement already satisfied: werkzeug>=1.0.1 in c:\\users\\atibp\\anaconda3\\lib\\site-packages (from tensorboard~=2.19.0->tensorflow) (3.0.3)\n",
      "Requirement already satisfied: markdown-it-py>=2.2.0 in c:\\users\\atibp\\anaconda3\\lib\\site-packages (from rich->keras) (2.2.0)\n",
      "Requirement already satisfied: pygments<3.0.0,>=2.13.0 in c:\\users\\atibp\\anaconda3\\lib\\site-packages (from rich->keras) (2.15.1)\n",
      "Requirement already satisfied: mdurl~=0.1 in c:\\users\\atibp\\anaconda3\\lib\\site-packages (from markdown-it-py>=2.2.0->rich->keras) (0.1.0)\n",
      "Requirement already satisfied: MarkupSafe>=2.1.1 in c:\\users\\atibp\\anaconda3\\lib\\site-packages (from werkzeug>=1.0.1->tensorboard~=2.19.0->tensorflow) (2.1.3)\n",
      "Downloading split_folders-0.5.1-py3-none-any.whl (8.4 kB)\n",
      "Downloading opencv_python-4.11.0.86-cp37-abi3-win_amd64.whl (39.5 MB)\n",
      "   ---------------------------------------- 0.0/39.5 MB ? eta -:--:--\n",
      "   - -------------------------------------- 1.3/39.5 MB 9.5 MB/s eta 0:00:05\n",
      "   --- ------------------------------------ 3.4/39.5 MB 9.6 MB/s eta 0:00:04\n",
      "   ----- ---------------------------------- 5.5/39.5 MB 9.9 MB/s eta 0:00:04\n",
      "   ------- -------------------------------- 7.6/39.5 MB 9.8 MB/s eta 0:00:04\n",
      "   ---------- ----------------------------- 10.0/39.5 MB 10.0 MB/s eta 0:00:03\n",
      "   ------------ --------------------------- 12.1/39.5 MB 9.9 MB/s eta 0:00:03\n",
      "   -------------- ------------------------- 14.4/39.5 MB 10.1 MB/s eta 0:00:03\n",
      "   ---------------- ----------------------- 16.5/39.5 MB 10.1 MB/s eta 0:00:03\n",
      "   ------------------ --------------------- 18.6/39.5 MB 10.0 MB/s eta 0:00:03\n",
      "   -------------------- ------------------- 20.7/39.5 MB 10.1 MB/s eta 0:00:02\n",
      "   ---------------------- ----------------- 22.5/39.5 MB 9.9 MB/s eta 0:00:02\n",
      "   ------------------------ --------------- 24.4/39.5 MB 9.8 MB/s eta 0:00:02\n",
      "   -------------------------- ------------- 26.5/39.5 MB 9.8 MB/s eta 0:00:02\n",
      "   ---------------------------- ----------- 28.3/39.5 MB 9.7 MB/s eta 0:00:02\n",
      "   ------------------------------ --------- 29.9/39.5 MB 9.6 MB/s eta 0:00:01\n",
      "   -------------------------------- ------- 32.0/39.5 MB 9.5 MB/s eta 0:00:01\n",
      "   ---------------------------------- ----- 33.8/39.5 MB 9.5 MB/s eta 0:00:01\n",
      "   ----------------------------------- ---- 34.9/39.5 MB 9.3 MB/s eta 0:00:01\n",
      "   ------------------------------------ --- 35.9/39.5 MB 9.0 MB/s eta 0:00:01\n",
      "   ------------------------------------- -- 36.7/39.5 MB 8.8 MB/s eta 0:00:01\n",
      "   -------------------------------------- - 37.7/39.5 MB 8.6 MB/s eta 0:00:01\n",
      "   ---------------------------------------  38.5/39.5 MB 8.3 MB/s eta 0:00:01\n",
      "   ---------------------------------------  39.3/39.5 MB 8.2 MB/s eta 0:00:01\n",
      "   ---------------------------------------- 39.5/39.5 MB 8.0 MB/s eta 0:00:00\n",
      "Installing collected packages: split-folders, opencv-python\n",
      "Successfully installed opencv-python-4.11.0.86 split-folders-0.5.1\n"
     ]
    }
   ],
   "source": [
    "!pip install tensorflow keras split-folders opencv-python"
   ]
  },
  {
   "cell_type": "code",
   "execution_count": 15,
   "id": "0f322e72-eb4d-4f49-98ce-da9102d82430",
   "metadata": {},
   "outputs": [],
   "source": [
    "import tensorflow as tf\n",
    "# libraries for comprehensive neural network buidling\n",
    "from tensorflow.keras.models import Sequential\n",
    "from tensorflow.keras.layers import Conv2D, MaxPooling2D, Flatten, Dense, Dropout, Input\n",
    "# library for data augmentation and pre processing\n",
    "from tensorflow.keras.preprocessing.image import ImageDataGenerator\n",
    "import matplotlib.pyplot as plt\n",
    "import numpy as np\n",
    "# libraries for organizing data and access\n",
    "import splitfolders\n",
    "import cv2\n",
    "# library to ensure that foramt matches the one expected by the model\n",
    "from tensorflow.keras.applications.resnet50 import preprocess_input\n",
    "from tensorflow.keras import layers, models"
   ]
  },
  {
   "cell_type": "code",
   "execution_count": 19,
   "id": "69ae639b-3f84-4f49-82db-adcac3611a23",
   "metadata": {},
   "outputs": [
    {
     "name": "stderr",
     "output_type": "stream",
     "text": [
      "Copying files: 829 files [00:02, 409.25 files/s]\n"
     ]
    }
   ],
   "source": [
    "# location directories for input and output\n",
    "input_folder=\"/Users/atibp/OneDrive/Desktop/deep-learn-neural-network/agriculture/agricultural-crops\"\n",
    "output_folder=\"/Users/atibp/OneDrive/Desktop/deep-learn-neural-network/agriculture/agro-images\"\n",
    "\n",
    "# ration for train, test and validation\n",
    "split_ratio=[0.8,0.1,0.1]\n",
    "\n",
    "splitfolders.ratio(\n",
    "    input_folder,\n",
    "    output=output_folder,\n",
    "    # ensures reproducable split\n",
    "    seed=500,\n",
    "    ratio=split_ratio,\n",
    "    group_prefix=None\n",
    ")"
   ]
  },
  {
   "cell_type": "code",
   "execution_count": null,
   "id": "a1ce5d49-6d76-4d8d-a3fb-800251264ec5",
   "metadata": {},
   "outputs": [],
   "source": []
  },
  {
   "cell_type": "code",
   "execution_count": null,
   "id": "9f6c9e89-a3c2-4ec1-9794-3746fc51262a",
   "metadata": {},
   "outputs": [],
   "source": []
  },
  {
   "cell_type": "code",
   "execution_count": null,
   "id": "5d64b003-67a5-4d78-bdfd-a09527f5d668",
   "metadata": {},
   "outputs": [],
   "source": []
  }
 ],
 "metadata": {
  "kernelspec": {
   "display_name": "Python [conda env:base] *",
   "language": "python",
   "name": "conda-base-py"
  },
  "language_info": {
   "codemirror_mode": {
    "name": "ipython",
    "version": 3
   },
   "file_extension": ".py",
   "mimetype": "text/x-python",
   "name": "python",
   "nbconvert_exporter": "python",
   "pygments_lexer": "ipython3",
   "version": "3.12.7"
  }
 },
 "nbformat": 4,
 "nbformat_minor": 5
}
