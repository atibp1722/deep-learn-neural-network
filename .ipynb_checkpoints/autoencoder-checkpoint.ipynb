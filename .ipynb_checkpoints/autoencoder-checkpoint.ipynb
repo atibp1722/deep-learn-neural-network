{
 "cells": [
  {
   "cell_type": "code",
   "execution_count": 10,
   "id": "f86230e9-f753-48aa-b25e-b90908e51d4e",
   "metadata": {},
   "outputs": [],
   "source": [
    "import numpy as np\n",
    "import matplotlib.pyplot as plt\n",
    "\n",
    "from keras.models import Model\n",
    "from keras.layers import Input,Dense\n",
    "from keras.datasets import mnist"
   ]
  },
  {
   "cell_type": "code",
   "execution_count": 12,
   "id": "d342c370-54d0-4317-b46d-36db19f611bb",
   "metadata": {},
   "outputs": [],
   "source": [
    "#dimension of the encoded image\n",
    "encoding_dim=64"
   ]
  },
  {
   "cell_type": "code",
   "execution_count": 16,
   "id": "ca05f764-4ad8-4055-9e7f-912f3ecd01eb",
   "metadata": {},
   "outputs": [],
   "source": [
    "#read the input image after flattenning it from 28x28 to 1d array of 784 pixels\n",
    "input_img=Input(shape=(784,))\n",
    "\n",
    "#compress to a dense fully connected layer using relu activation\n",
    "encoded=Dense(encoding_dim,activation='relu')(input_img)\n",
    "#reconstruct the image to its 1d representatino using sigmoid\n",
    "decoded=Dense(784,activation='sigmoid')(encoded)\n",
    "\n",
    "#map image to its flattened rpresentation\n",
    "autoencoder=Model(input_img,decoded)\n",
    "\n",
    "#map image to its encoded representation\n",
    "encoder=Model(input_img,encoded)\n",
    "\n",
    "#layer to match encoded representattion \n",
    "encoded_input=Input(shape=(encoding_dim,))"
   ]
  },
  {
   "cell_type": "code",
   "execution_count": 18,
   "id": "4834d8f8-cef2-4c9b-8b9a-a210aceef781",
   "metadata": {},
   "outputs": [],
   "source": [
    "#get the decoder layer from autoencoder\n",
    "decoded_layer=autoencoder.layers[-1]"
   ]
  },
  {
   "cell_type": "code",
   "execution_count": 20,
   "id": "6e21f885-46ab-4caa-91f0-90ab88e44fad",
   "metadata": {},
   "outputs": [],
   "source": [
    "#map inut to reconstructed image\n",
    "decoder=Model(encoded_input,decoded_layer(encoded_input))"
   ]
  },
  {
   "cell_type": "code",
   "execution_count": 48,
   "id": "d5ae2ce1-754e-46fa-92f2-d576caea92e5",
   "metadata": {},
   "outputs": [],
   "source": [
    "#compile the model\n",
    "autoencoder.compile(optimizer='adam',loss='binary_crossentropy')"
   ]
  },
  {
   "cell_type": "code",
   "execution_count": 50,
   "id": "7f9f9fa0-06df-495d-bc44-714bb762d148",
   "metadata": {},
   "outputs": [
    {
     "name": "stdout",
     "output_type": "stream",
     "text": [
      "X_train shape: (60000, 784)\n",
      "X_test shape: (10000, 784)\n"
     ]
    }
   ],
   "source": [
    "#load dataset\n",
    "\n",
    "#since input and output are the same replace y with a placeholder\n",
    "(X_train,_),(X_test,_)=mnist.load_data()\n",
    "\n",
    "#normalize data between 0 and 1\n",
    "X_train=X_train.astype('float32')/255\n",
    "X_test=X_test.astype('float32')/255\n",
    "\n",
    "#flatten the image into 1D array of 784 pixels\n",
    "X_train=X_train.reshape((len(X_train),(np.prod(X_train.shape[1:]))))\n",
    "X_test=X_test.reshape((len(X_test),(np.prod(X_test.shape[1:]))))\n",
    "\n",
    "print(f'X_train shape: {X_train.shape}')\n",
    "print(f'X_test shape: {X_test.shape}')"
   ]
  },
  {
   "cell_type": "code",
   "execution_count": 52,
   "id": "a666356c-09f9-4b43-9190-97f55f4bb97f",
   "metadata": {},
   "outputs": [
    {
     "name": "stdout",
     "output_type": "stream",
     "text": [
      "Epoch 1/25\n",
      "\u001b[1m235/235\u001b[0m \u001b[32m━━━━━━━━━━━━━━━━━━━━\u001b[0m\u001b[37m\u001b[0m \u001b[1m11s\u001b[0m 36ms/step - loss: 0.3082 - val_loss: 0.1578\n",
      "Epoch 2/25\n",
      "\u001b[1m235/235\u001b[0m \u001b[32m━━━━━━━━━━━━━━━━━━━━\u001b[0m\u001b[37m\u001b[0m \u001b[1m8s\u001b[0m 32ms/step - loss: 0.1485 - val_loss: 0.1228\n",
      "Epoch 3/25\n",
      "\u001b[1m235/235\u001b[0m \u001b[32m━━━━━━━━━━━━━━━━━━━━\u001b[0m\u001b[37m\u001b[0m \u001b[1m7s\u001b[0m 31ms/step - loss: 0.1193 - val_loss: 0.1052\n",
      "Epoch 4/25\n",
      "\u001b[1m235/235\u001b[0m \u001b[32m━━━━━━━━━━━━━━━━━━━━\u001b[0m\u001b[37m\u001b[0m \u001b[1m11s\u001b[0m 34ms/step - loss: 0.1036 - val_loss: 0.0950\n",
      "Epoch 5/25\n",
      "\u001b[1m235/235\u001b[0m \u001b[32m━━━━━━━━━━━━━━━━━━━━\u001b[0m\u001b[37m\u001b[0m \u001b[1m7s\u001b[0m 30ms/step - loss: 0.0943 - val_loss: 0.0884\n",
      "Epoch 6/25\n",
      "\u001b[1m235/235\u001b[0m \u001b[32m━━━━━━━━━━━━━━━━━━━━\u001b[0m\u001b[37m\u001b[0m \u001b[1m6s\u001b[0m 26ms/step - loss: 0.0881 - val_loss: 0.0840\n",
      "Epoch 7/25\n",
      "\u001b[1m235/235\u001b[0m \u001b[32m━━━━━━━━━━━━━━━━━━━━\u001b[0m\u001b[37m\u001b[0m \u001b[1m12s\u001b[0m 34ms/step - loss: 0.0840 - val_loss: 0.0810\n",
      "Epoch 8/25\n",
      "\u001b[1m235/235\u001b[0m \u001b[32m━━━━━━━━━━━━━━━━━━━━\u001b[0m\u001b[37m\u001b[0m \u001b[1m11s\u001b[0m 35ms/step - loss: 0.0812 - val_loss: 0.0789\n",
      "Epoch 9/25\n",
      "\u001b[1m235/235\u001b[0m \u001b[32m━━━━━━━━━━━━━━━━━━━━\u001b[0m\u001b[37m\u001b[0m \u001b[1m8s\u001b[0m 34ms/step - loss: 0.0791 - val_loss: 0.0773\n",
      "Epoch 10/25\n",
      "\u001b[1m235/235\u001b[0m \u001b[32m━━━━━━━━━━━━━━━━━━━━\u001b[0m\u001b[37m\u001b[0m \u001b[1m9s\u001b[0m 28ms/step - loss: 0.0778 - val_loss: 0.0762\n",
      "Epoch 11/25\n",
      "\u001b[1m235/235\u001b[0m \u001b[32m━━━━━━━━━━━━━━━━━━━━\u001b[0m\u001b[37m\u001b[0m \u001b[1m6s\u001b[0m 25ms/step - loss: 0.0766 - val_loss: 0.0754\n",
      "Epoch 12/25\n",
      "\u001b[1m235/235\u001b[0m \u001b[32m━━━━━━━━━━━━━━━━━━━━\u001b[0m\u001b[37m\u001b[0m \u001b[1m10s\u001b[0m 25ms/step - loss: 0.0760 - val_loss: 0.0748\n",
      "Epoch 13/25\n",
      "\u001b[1m235/235\u001b[0m \u001b[32m━━━━━━━━━━━━━━━━━━━━\u001b[0m\u001b[37m\u001b[0m \u001b[1m6s\u001b[0m 25ms/step - loss: 0.0753 - val_loss: 0.0743\n",
      "Epoch 14/25\n",
      "\u001b[1m235/235\u001b[0m \u001b[32m━━━━━━━━━━━━━━━━━━━━\u001b[0m\u001b[37m\u001b[0m \u001b[1m8s\u001b[0m 34ms/step - loss: 0.0749 - val_loss: 0.0741\n",
      "Epoch 15/25\n",
      "\u001b[1m235/235\u001b[0m \u001b[32m━━━━━━━━━━━━━━━━━━━━\u001b[0m\u001b[37m\u001b[0m \u001b[1m10s\u001b[0m 34ms/step - loss: 0.0746 - val_loss: 0.0738\n",
      "Epoch 16/25\n",
      "\u001b[1m235/235\u001b[0m \u001b[32m━━━━━━━━━━━━━━━━━━━━\u001b[0m\u001b[37m\u001b[0m \u001b[1m10s\u001b[0m 32ms/step - loss: 0.0744 - val_loss: 0.0736\n",
      "Epoch 17/25\n",
      "\u001b[1m235/235\u001b[0m \u001b[32m━━━━━━━━━━━━━━━━━━━━\u001b[0m\u001b[37m\u001b[0m \u001b[1m11s\u001b[0m 32ms/step - loss: 0.0742 - val_loss: 0.0734\n",
      "Epoch 18/25\n",
      "\u001b[1m235/235\u001b[0m \u001b[32m━━━━━━━━━━━━━━━━━━━━\u001b[0m\u001b[37m\u001b[0m \u001b[1m11s\u001b[0m 34ms/step - loss: 0.0738 - val_loss: 0.0733\n",
      "Epoch 19/25\n",
      "\u001b[1m235/235\u001b[0m \u001b[32m━━━━━━━━━━━━━━━━━━━━\u001b[0m\u001b[37m\u001b[0m \u001b[1m10s\u001b[0m 32ms/step - loss: 0.0738 - val_loss: 0.0732\n",
      "Epoch 20/25\n",
      "\u001b[1m235/235\u001b[0m \u001b[32m━━━━━━━━━━━━━━━━━━━━\u001b[0m\u001b[37m\u001b[0m \u001b[1m10s\u001b[0m 30ms/step - loss: 0.0736 - val_loss: 0.0731\n",
      "Epoch 21/25\n",
      "\u001b[1m235/235\u001b[0m \u001b[32m━━━━━━━━━━━━━━━━━━━━\u001b[0m\u001b[37m\u001b[0m \u001b[1m11s\u001b[0m 33ms/step - loss: 0.0736 - val_loss: 0.0730\n",
      "Epoch 22/25\n",
      "\u001b[1m235/235\u001b[0m \u001b[32m━━━━━━━━━━━━━━━━━━━━\u001b[0m\u001b[37m\u001b[0m \u001b[1m11s\u001b[0m 35ms/step - loss: 0.0735 - val_loss: 0.0730\n",
      "Epoch 23/25\n",
      "\u001b[1m235/235\u001b[0m \u001b[32m━━━━━━━━━━━━━━━━━━━━\u001b[0m\u001b[37m\u001b[0m \u001b[1m9s\u001b[0m 37ms/step - loss: 0.0733 - val_loss: 0.0728\n",
      "Epoch 24/25\n",
      "\u001b[1m235/235\u001b[0m \u001b[32m━━━━━━━━━━━━━━━━━━━━\u001b[0m\u001b[37m\u001b[0m \u001b[1m7s\u001b[0m 31ms/step - loss: 0.0733 - val_loss: 0.0729\n",
      "Epoch 25/25\n",
      "\u001b[1m235/235\u001b[0m \u001b[32m━━━━━━━━━━━━━━━━━━━━\u001b[0m\u001b[37m\u001b[0m \u001b[1m9s\u001b[0m 25ms/step - loss: 0.0733 - val_loss: 0.0728\n"
     ]
    },
    {
     "data": {
      "text/plain": [
       "<keras.src.callbacks.history.History at 0x1f8d57f15b0>"
      ]
     },
     "execution_count": 52,
     "metadata": {},
     "output_type": "execute_result"
    }
   ],
   "source": [
    "#model fitting\n",
    "autoencoder.fit(X_train,X_train,epochs=25,batch_size=256,shuffle=True,validation_data=(X_test,X_test))"
   ]
  },
  {
   "cell_type": "code",
   "execution_count": 54,
   "id": "497d2a97-55a5-430e-9583-2a1d5d8abdc9",
   "metadata": {},
   "outputs": [
    {
     "name": "stdout",
     "output_type": "stream",
     "text": [
      "\u001b[1m313/313\u001b[0m \u001b[32m━━━━━━━━━━━━━━━━━━━━\u001b[0m\u001b[37m\u001b[0m \u001b[1m1s\u001b[0m 3ms/step\n",
      "\u001b[1m313/313\u001b[0m \u001b[32m━━━━━━━━━━━━━━━━━━━━\u001b[0m\u001b[37m\u001b[0m \u001b[1m1s\u001b[0m 3ms/step\n"
     ]
    }
   ],
   "source": [
    "#encode decode test set\n",
    "encoded_imgs=encoder.predict(X_test)\n",
    "decoded_imgs=decoder.predict(encoded_imgs)"
   ]
  },
  {
   "cell_type": "code",
   "execution_count": 56,
   "id": "67737950-4dae-4890-8549-343284d7920a",
   "metadata": {},
   "outputs": [
    {
     "data": {
      "image/png": "[encoded data removed]",
      "text/plain": [
       "<Figure size 1800x400 with 20 Axes>"
      ]
     },
     "metadata": {},
     "output_type": "display_data"
    }
   ],
   "source": [
    "n=10\n",
    "plt.figure(figsize=(18,4))\n",
    "\n",
    "for i in range(n):\n",
    "    #original images\n",
    "    ax=plt.subplot(2,n,i+1)\n",
    "    plt.imshow(X_test[i].reshape(28,28))\n",
    "    plt.gray()\n",
    "    ax.get_xaxis().set_visible(False)\n",
    "    ax.get_yaxis().set_visible(False)\n",
    "\n",
    "    #images to compare with the original\n",
    "    ax=plt.subplot(2,n,i+1+n)\n",
    "    plt.imshow(decoded_imgs[i].reshape(28,28))\n",
    "    \n",
    "    plt.gray()\n",
    "    ax.get_xaxis().set_visible(False)\n",
    "    ax.get_yaxis().set_visible(False)\n",
    "\n",
    "plt.show()"
   ]
  },
  {
   "cell_type": "code",
   "execution_count": null,
   "id": "e7f25cd3-52f5-48a8-9c22-db39d688c9e4",
   "metadata": {},
   "outputs": [],
   "source": []
  },
  {
   "cell_type": "code",
   "execution_count": null,
   "id": "ae6210d6-dc9b-4ddc-8cfd-8d1becf33147",
   "metadata": {},
   "outputs": [],
   "source": []
  }
 ],
 "metadata": {
  "kernelspec": {
   "display_name": "Python [conda env:base] *",
   "language": "python",
   "name": "conda-base-py"
  },
  "language_info": {
   "codemirror_mode": {
    "name": "ipython",
    "version": 3
   },
   "file_extension": ".py",
   "mimetype": "text/x-python",
   "name": "python",
   "nbconvert_exporter": "python",
   "pygments_lexer": "ipython3",
   "version": "3.12.7"
  }
 },
 "nbformat": 4,
 "nbformat_minor": 5
}
