{
 "cells": [
  {
   "cell_type": "code",
   "execution_count": 10,
   "id": "f86230e9-f753-48aa-b25e-b90908e51d4e",
   "metadata": {},
   "outputs": [],
   "source": [
    "import numpy as np\n",
    "import matplotlib.pyplot as plt\n",
    "\n",
    "from keras.models import Model\n",
    "from keras.layers import Input,Dense\n",
    "from keras.datasets import mnist"
   ]
  },
  {
   "cell_type": "code",
   "execution_count": 12,
   "id": "d342c370-54d0-4317-b46d-36db19f611bb",
   "metadata": {},
   "outputs": [],
   "source": [
    "#dimension of the encoded image\n",
    "encoding_dim=64"
   ]
  },
  {
   "cell_type": "code",
   "execution_count": 16,
   "id": "ca05f764-4ad8-4055-9e7f-912f3ecd01eb",
   "metadata": {},
   "outputs": [],
   "source": [
    "#read the input image after flattenning it from 28x28 to 1d array of 784 pixels\n",
    "input_img=Input(shape=(784,))\n",
    "\n",
    "#compress to a dense fully connected layer using relu activation\n",
    "encoded=Dense(encoding_dim,activation='relu')(input_img)\n",
    "#reconstruct the image to its 1d representatino using sigmoid\n",
    "decoded=Dense(784,activation='sigmoid')(encoded)\n",
    "\n",
    "#map image to its flattened rpresentation\n",
    "autoencoder=Model(input_img,decoded)\n",
    "\n",
    "#map image to its encoded representation\n",
    "encoder=Model(input_img,encoded)\n",
    "\n",
    "#layer to match encoded representattion \n",
    "encoded_input=Input(shape=(encoding_dim,))"
   ]
  },
  {
   "cell_type": "code",
   "execution_count": 18,
   "id": "4834d8f8-cef2-4c9b-8b9a-a210aceef781",
   "metadata": {},
   "outputs": [],
   "source": [
    "#get the decoder layer from autoencoder\n",
    "decoded_layer=autoencoder.layers[-1]"
   ]
  },
  {
   "cell_type": "code",
   "execution_count": 20,
   "id": "6e21f885-46ab-4caa-91f0-90ab88e44fad",
   "metadata": {},
   "outputs": [],
   "source": [
    "#map inut to reconstructed image\n",
    "decoder=Model(encoded_input,decoded_layer(encoded_input))"
   ]
  },
  {
   "cell_type": "code",
   "execution_count": 22,
   "id": "d5ae2ce1-754e-46fa-92f2-d576caea92e5",
   "metadata": {},
   "outputs": [],
   "source": [
    "#compile the model\n",
    "autoencoder.compile(optimizer='adadelta',loss='binary_crossentropy')"
   ]
  },
  {
   "cell_type": "code",
   "execution_count": 30,
   "id": "7f9f9fa0-06df-495d-bc44-714bb762d148",
   "metadata": {},
   "outputs": [
    {
     "name": "stdout",
     "output_type": "stream",
     "text": [
      "X_train shape: (60000, 784)\n",
      "X_test shape: (10000, 784)\n"
     ]
    }
   ],
   "source": [
    "#load dataset\n",
    "\n",
    "#since input and output are the same replace y with a placeholder\n",
    "(X_train,_),(X_test,_)=mnist.load_data()\n",
    "\n",
    "#normalize data between 0 and 1\n",
    "X_train=X_train.astype('float32')/255\n",
    "X_test=X_test.astype('float32')/255\n",
    "\n",
    "#flatten the image into 1D array of 784 pixels\n",
    "X_train=X_train.reshape((len(X_train),(np.prod(X_train.shape[1:]))))\n",
    "X_test=X_test.reshape((len(X_test),(np.prod(X_test.shape[1:]))))\n",
    "\n",
    "print(f'X_train shape: {X_train.shape}')\n",
    "print(f'X_test shape: {X_test.shape}')"
   ]
  },
  {
   "cell_type": "code",
   "execution_count": null,
   "id": "a666356c-09f9-4b43-9190-97f55f4bb97f",
   "metadata": {},
   "outputs": [],
   "source": []
  },
  {
   "cell_type": "code",
   "execution_count": null,
   "id": "497d2a97-55a5-430e-9583-2a1d5d8abdc9",
   "metadata": {},
   "outputs": [],
   "source": []
  },
  {
   "cell_type": "code",
   "execution_count": null,
   "id": "67737950-4dae-4890-8549-343284d7920a",
   "metadata": {},
   "outputs": [],
   "source": []
  },
  {
   "cell_type": "code",
   "execution_count": null,
   "id": "e7f25cd3-52f5-48a8-9c22-db39d688c9e4",
   "metadata": {},
   "outputs": [],
   "source": []
  }
 ],
 "metadata": {
  "kernelspec": {
   "display_name": "Python [conda env:base] *",
   "language": "python",
   "name": "conda-base-py"
  },
  "language_info": {
   "codemirror_mode": {
    "name": "ipython",
    "version": 3
   },
   "file_extension": ".py",
   "mimetype": "text/x-python",
   "name": "python",
   "nbconvert_exporter": "python",
   "pygments_lexer": "ipython3",
   "version": "3.12.7"
  }
 },
 "nbformat": 4,
 "nbformat_minor": 5
}
