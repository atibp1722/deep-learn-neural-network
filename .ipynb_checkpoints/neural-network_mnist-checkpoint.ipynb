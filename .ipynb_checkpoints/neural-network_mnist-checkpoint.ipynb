{
 "cells": [
  {
   "cell_type": "markdown",
   "id": "60f9bfa8-4b61-4909-bd9f-c985d79536c3",
   "metadata": {},
   "source": [
    "# load libraries and dataset"
   ]
  },
  {
   "cell_type": "code",
   "execution_count": 1,
   "id": "f0958e09-a16a-4621-af30-707b1f40bcff",
   "metadata": {},
   "outputs": [],
   "source": [
    "import numpy as np\n",
    "import pandas as pd\n",
    "import matplotlib.pyplot as plt"
   ]
  },
  {
   "cell_type": "code",
   "execution_count": 9,
   "id": "b20f86c5-53e1-4877-818a-91347d532b16",
   "metadata": {},
   "outputs": [
    {
     "data": {
      "text/html": [
       "<div>\n",
       "<style scoped>\n",
       "    .dataframe tbody tr th:only-of-type {\n",
       "        vertical-align: middle;\n",
       "    }\n",
       "\n",
       "    .dataframe tbody tr th {\n",
       "        vertical-align: top;\n",
       "    }\n",
       "\n",
       "    .dataframe thead th {\n",
       "        text-align: right;\n",
       "    }\n",
       "</style>\n",
       "<table border=\"1\" class=\"dataframe\">\n",
       "  <thead>\n",
       "    <tr style=\"text-align: right;\">\n",
       "      <th></th>\n",
       "      <th>label</th>\n",
       "      <th>pixel0</th>\n",
       "      <th>pixel1</th>\n",
       "      <th>pixel2</th>\n",
       "      <th>pixel3</th>\n",
       "      <th>pixel4</th>\n",
       "      <th>pixel5</th>\n",
       "      <th>pixel6</th>\n",
       "      <th>pixel7</th>\n",
       "      <th>pixel8</th>\n",
       "      <th>...</th>\n",
       "      <th>pixel774</th>\n",
       "      <th>pixel775</th>\n",
       "      <th>pixel776</th>\n",
       "      <th>pixel777</th>\n",
       "      <th>pixel778</th>\n",
       "      <th>pixel779</th>\n",
       "      <th>pixel780</th>\n",
       "      <th>pixel781</th>\n",
       "      <th>pixel782</th>\n",
       "      <th>pixel783</th>\n",
       "    </tr>\n",
       "  </thead>\n",
       "  <tbody>\n",
       "    <tr>\n",
       "      <th>0</th>\n",
       "      <td>1</td>\n",
       "      <td>0</td>\n",
       "      <td>0</td>\n",
       "      <td>0</td>\n",
       "      <td>0</td>\n",
       "      <td>0</td>\n",
       "      <td>0</td>\n",
       "      <td>0</td>\n",
       "      <td>0</td>\n",
       "      <td>0</td>\n",
       "      <td>...</td>\n",
       "      <td>0</td>\n",
       "      <td>0</td>\n",
       "      <td>0</td>\n",
       "      <td>0</td>\n",
       "      <td>0</td>\n",
       "      <td>0</td>\n",
       "      <td>0</td>\n",
       "      <td>0</td>\n",
       "      <td>0</td>\n",
       "      <td>0</td>\n",
       "    </tr>\n",
       "    <tr>\n",
       "      <th>1</th>\n",
       "      <td>0</td>\n",
       "      <td>0</td>\n",
       "      <td>0</td>\n",
       "      <td>0</td>\n",
       "      <td>0</td>\n",
       "      <td>0</td>\n",
       "      <td>0</td>\n",
       "      <td>0</td>\n",
       "      <td>0</td>\n",
       "      <td>0</td>\n",
       "      <td>...</td>\n",
       "      <td>0</td>\n",
       "      <td>0</td>\n",
       "      <td>0</td>\n",
       "      <td>0</td>\n",
       "      <td>0</td>\n",
       "      <td>0</td>\n",
       "      <td>0</td>\n",
       "      <td>0</td>\n",
       "      <td>0</td>\n",
       "      <td>0</td>\n",
       "    </tr>\n",
       "    <tr>\n",
       "      <th>2</th>\n",
       "      <td>1</td>\n",
       "      <td>0</td>\n",
       "      <td>0</td>\n",
       "      <td>0</td>\n",
       "      <td>0</td>\n",
       "      <td>0</td>\n",
       "      <td>0</td>\n",
       "      <td>0</td>\n",
       "      <td>0</td>\n",
       "      <td>0</td>\n",
       "      <td>...</td>\n",
       "      <td>0</td>\n",
       "      <td>0</td>\n",
       "      <td>0</td>\n",
       "      <td>0</td>\n",
       "      <td>0</td>\n",
       "      <td>0</td>\n",
       "      <td>0</td>\n",
       "      <td>0</td>\n",
       "      <td>0</td>\n",
       "      <td>0</td>\n",
       "    </tr>\n",
       "    <tr>\n",
       "      <th>3</th>\n",
       "      <td>4</td>\n",
       "      <td>0</td>\n",
       "      <td>0</td>\n",
       "      <td>0</td>\n",
       "      <td>0</td>\n",
       "      <td>0</td>\n",
       "      <td>0</td>\n",
       "      <td>0</td>\n",
       "      <td>0</td>\n",
       "      <td>0</td>\n",
       "      <td>...</td>\n",
       "      <td>0</td>\n",
       "      <td>0</td>\n",
       "      <td>0</td>\n",
       "      <td>0</td>\n",
       "      <td>0</td>\n",
       "      <td>0</td>\n",
       "      <td>0</td>\n",
       "      <td>0</td>\n",
       "      <td>0</td>\n",
       "      <td>0</td>\n",
       "    </tr>\n",
       "    <tr>\n",
       "      <th>4</th>\n",
       "      <td>0</td>\n",
       "      <td>0</td>\n",
       "      <td>0</td>\n",
       "      <td>0</td>\n",
       "      <td>0</td>\n",
       "      <td>0</td>\n",
       "      <td>0</td>\n",
       "      <td>0</td>\n",
       "      <td>0</td>\n",
       "      <td>0</td>\n",
       "      <td>...</td>\n",
       "      <td>0</td>\n",
       "      <td>0</td>\n",
       "      <td>0</td>\n",
       "      <td>0</td>\n",
       "      <td>0</td>\n",
       "      <td>0</td>\n",
       "      <td>0</td>\n",
       "      <td>0</td>\n",
       "      <td>0</td>\n",
       "      <td>0</td>\n",
       "    </tr>\n",
       "  </tbody>\n",
       "</table>\n",
       "<p>5 rows × 785 columns</p>\n",
       "</div>"
      ],
      "text/plain": [
       "   label  pixel0  pixel1  pixel2  pixel3  pixel4  pixel5  pixel6  pixel7  \\\n",
       "0      1       0       0       0       0       0       0       0       0   \n",
       "1      0       0       0       0       0       0       0       0       0   \n",
       "2      1       0       0       0       0       0       0       0       0   \n",
       "3      4       0       0       0       0       0       0       0       0   \n",
       "4      0       0       0       0       0       0       0       0       0   \n",
       "\n",
       "   pixel8  ...  pixel774  pixel775  pixel776  pixel777  pixel778  pixel779  \\\n",
       "0       0  ...         0         0         0         0         0         0   \n",
       "1       0  ...         0         0         0         0         0         0   \n",
       "2       0  ...         0         0         0         0         0         0   \n",
       "3       0  ...         0         0         0         0         0         0   \n",
       "4       0  ...         0         0         0         0         0         0   \n",
       "\n",
       "   pixel780  pixel781  pixel782  pixel783  \n",
       "0         0         0         0         0  \n",
       "1         0         0         0         0  \n",
       "2         0         0         0         0  \n",
       "3         0         0         0         0  \n",
       "4         0         0         0         0  \n",
       "\n",
       "[5 rows x 785 columns]"
      ]
     },
     "execution_count": 9,
     "metadata": {},
     "output_type": "execute_result"
    }
   ],
   "source": [
    "data=pd.read_csv('data/train.csv')\n",
    "data.head()"
   ]
  },
  {
   "cell_type": "code",
   "execution_count": 26,
   "id": "d798be39-7837-41e9-96c4-47751a84487a",
   "metadata": {},
   "outputs": [],
   "source": [
    "data=np.array(data)\n",
    "m,n=data.shape\n",
    "np.random.shuffle(data)"
   ]
  },
  {
   "cell_type": "markdown",
   "id": "27520d4c-b3db-4515-ab06-61e635dfb40d",
   "metadata": {},
   "source": [
    "# converting data into numpy arrays as it is the data structure best for neural network rather than pandas dataframe\n",
    "\n",
    "# row and column representation of values"
   ]
  },
  {
   "cell_type": "code",
   "execution_count": 33,
   "id": "053e4544-d0c5-4c05-aa7b-688c1a307c22",
   "metadata": {},
   "outputs": [],
   "source": [
    "# 1000 data points are set aside for validation\n",
    "# remaining become features\n",
    "data_valid=data[0:1000].T\n",
    "y_valid=data_valid[0]\n",
    "x_valid=data_valid[1:n]\n",
    "\n",
    "# training set is remanining data which are transposed\n",
    "data_train=data[1000:m].T\n",
    "y_train=data_train[0]\n",
    "x_train=data_train[1:n]"
   ]
  },
  {
   "cell_type": "markdown",
   "id": "077b3117-790b-4ed1-a03e-1425e4d329d5",
   "metadata": {},
   "source": [
    "# 1000 data are set aside for validation purpose as it is important to prevent overfitting so the model can generalized unseen data\n",
    "\n",
    "# matrix rows need to be transposed for row to columns vice versa\n",
    "\n",
    "# the rest data is set aside for testing"
   ]
  },
  {
   "cell_type": "code",
   "execution_count": 49,
   "id": "36e87902-d1c2-4daf-a334-4e49f78c9182",
   "metadata": {},
   "outputs": [
    {
     "data": {
      "text/plain": [
       "array([6, 7, 1, ..., 7, 1, 7], dtype=int64)"
      ]
     },
     "execution_count": 49,
     "metadata": {},
     "output_type": "execute_result"
    }
   ],
   "source": [
    "y_train"
   ]
  },
  {
   "cell_type": "markdown",
   "id": "e6826180-e1bd-4724-ac2b-e7068582a1a7",
   "metadata": {},
   "source": [
    "# the column x_train has 784 pixels in it"
   ]
  },
  {
   "cell_type": "code",
   "execution_count": 52,
   "id": "e3d81c67-bb26-4652-adbe-73e9c45c7e42",
   "metadata": {},
   "outputs": [
    {
     "data": {
      "text/plain": [
       "(784,)"
      ]
     },
     "execution_count": 52,
     "metadata": {},
     "output_type": "execute_result"
    }
   ],
   "source": [
    "x_train[:,0].shape"
   ]
  },
  {
   "cell_type": "markdown",
   "id": "bb7c219d-863b-4f6e-bde3-036831ad1888",
   "metadata": {},
   "source": [
    "# neural network"
   ]
  },
  {
   "cell_type": "code",
   "execution_count": 86,
   "id": "6d21dc14-b24c-4d90-8cac-6de76f5e1e5d",
   "metadata": {},
   "outputs": [],
   "source": [
    "def init_params():\n",
    "    # initialization of the initial weights\n",
    "    # valye range not starting with 0 as it slows training time\n",
    "    w1=np.random.rand(10,784)-0.5\n",
    "    b1=np.random.rand(10,1)-0.5\n",
    "\n",
    "    w2=np.random.rand(10,10)-0.5\n",
    "    b2=np.random.rand(10,1)-0.5\n",
    "    \n",
    "    return w1,b1,w2,b2\n",
    "\n",
    "# if > than 0 return value else return 0\n",
    "def ReLU(Z):\n",
    "    # stable value\n",
    "    Z=Z-np.max(Z,axis=0)\n",
    "    exp_Z=np.exp(Z)\n",
    "    return exp_Z/np.sum(exp_Z,axis=0,keepdims=True)\n",
    "\n",
    "# sum for each column accross the rows\n",
    "def softmax(Z):\n",
    "    return np.exp(Z)/np.sum(np.exp(Z))\n",
    "\n",
    "# method to move forward and update weight and bias value\n",
    "def forward_prop(w1,b1,w2,b2,X):\n",
    "    z1=w1.dot(X)+b1\n",
    "    a1=ReLU(z1)\n",
    "\n",
    "    z2=w2.dot(a1)+b2\n",
    "    a2=softmax(z2)\n",
    "    return z1,a1,a2,z2\n",
    "\n",
    "# one hot encoding to convert Y labels into a matrix\n",
    "def one_hot(Y):\n",
    "    # matrix of 0s, output classes from 0-9 and +1 makes it 10\n",
    "    one_hot_y=np.zeros((Y.size,Y.max()+1))\n",
    "    # create an array with range form 0 to number of training examples\n",
    "    one_hot_y[np.arange(Y.size),Y]=1\n",
    "    one_hot_y=one_hot_y.T\n",
    "    return one_hot_y\n",
    "\n",
    "# derivative of the relu\n",
    "def derivative_RelU(Z):\n",
    "    # true values coverted to 1 false to 0\n",
    "    return Z>0\n",
    "    \n",
    "def back_prop(z1,a1,z2,a2,w2,X,Y):\n",
    "    m=Y.size\n",
    "    one_hot_y=one_hot(Y)\n",
    "    dz2=a2-one_hot_y\n",
    "    dw2=1/m*dz2.dot(a1.T)\n",
    "    db2=1/m*np.sum(dz2,axis=1,keepdims=True)\n",
    "    dz1=w2.T.dot(dz2)*derivative_RelU(z1)\n",
    "    dw1=1/m*dz1.dot(X.T)\n",
    "    db1=1/m*np.sum(dz1,axis=1,keepdims=True)\n",
    "\n",
    "    return dw1,db1,dw2,db2\n",
    "\n",
    "def update_params(w1,b1,w2,b2,dw1,db1,dw2,db2,alpha):\n",
    "    w1=w1-alpha*dw1\n",
    "    b1=b1-alpha*db1\n",
    "    w2=w2-alpha*dw2\n",
    "    b2=b2-alpha*db2\n",
    "    return w1,b1,w2,b2"
   ]
  },
  {
   "cell_type": "markdown",
   "id": "ea75b80f-2da7-4da0-930b-5745ddb8ff5e",
   "metadata": {},
   "source": [
    "# start with weights value not with 0 as it slows down training time\n",
    "# ReLU returns value 0 for negative and same value for positive\n",
    "# softmax is used to bring to scale between 0 and 1 forward propagation ensures that with each step forward values are updated derivative of ReLu tells the slope and how much to adjust values while doing back propagation\n",
    "# back propgation is done to reduce error value for each iteration, if not decreasing recheck function\n",
    "# update the weight bias paramters using the alpha value which tells the severity of descent"
   ]
  },
  {
   "cell_type": "code",
   "execution_count": 96,
   "id": "d606a587-ecd8-458c-a81e-55ce17805b76",
   "metadata": {},
   "outputs": [],
   "source": [
    "def get_predictions(a2):\n",
    "    return np.argmax(a2,0)\n",
    "\n",
    "def get_accuracy(predictions,Y):\n",
    "    print(predictions,Y)\n",
    "    return np.sum(predictions==Y)/Y.size\n",
    "\n",
    "def gradient_descent(X,Y,iterations,alpha):\n",
    "    w1,b1,w2,b2=init_params()\n",
    "    for i in range(iterations):\n",
    "        z1,a1,z2,a2=forward_prop(w1,b1,w2,b2,X)\n",
    "        dw1,db1,dw2,db2=back_prop(z1,a1,z2,a2,w2,X,Y)\n",
    "        w1,b1,w2,b2=update_params(w1,b1,w2,b2,dw1,db1,dw2,db2,alpha)\n",
    "        if i%10==0:\n",
    "            print(\"Iteration: \",i)\n",
    "            print(\"Accuracy: \", get_accuracy(get_predictions(a2),Y))\n",
    "    return w1,b1,w2,b2"
   ]
  },
  {
   "cell_type": "markdown",
   "id": "139422fa-9c00-4f8a-be3e-029a28e74cf6",
   "metadata": {},
   "source": [
    "# converting the probability values into actual prediction numbers\n",
    "# chek how well the model is performaing and able to correctly identify\n",
    "# initializing the with initial values and running iterations that updates values with forward prop and back prop while updting params for each instance"
   ]
  },
  {
   "cell_type": "code",
   "execution_count": 99,
   "id": "c4db7c65-69d3-49f1-b069-f8143ca2b8f0",
   "metadata": {},
   "outputs": [
    {
     "name": "stdout",
     "output_type": "stream",
     "text": [
      "Iteration:  0\n",
      "[8 3 8 ... 3 8 5] [6 7 1 ... 7 1 7]\n",
      "Accuracy:  0.10878048780487805\n",
      "Iteration:  10\n",
      "[8 8 8 ... 5 8 8] [6 7 1 ... 7 1 7]\n",
      "Accuracy:  0.16358536585365854\n",
      "Iteration:  20\n",
      "[1 1 3 ... 5 3 1] [6 7 1 ... 7 1 7]\n",
      "Accuracy:  0.17221951219512194\n",
      "Iteration:  30\n",
      "[9 9 3 ... 5 3 9] [6 7 1 ... 7 1 7]\n",
      "Accuracy:  0.17665853658536584\n",
      "Iteration:  40\n",
      "[9 9 3 ... 0 3 9] [6 7 1 ... 7 1 7]\n",
      "Accuracy:  0.23182926829268294\n",
      "Iteration:  50\n",
      "[9 9 3 ... 0 3 9] [6 7 1 ... 7 1 7]\n",
      "Accuracy:  0.24126829268292682\n",
      "Iteration:  60\n",
      "[9 9 3 ... 0 3 9] [6 7 1 ... 7 1 7]\n",
      "Accuracy:  0.24939024390243902\n",
      "Iteration:  70\n",
      "[9 9 3 ... 0 3 9] [6 7 1 ... 7 1 7]\n",
      "Accuracy:  0.2552439024390244\n",
      "Iteration:  80\n",
      "[9 9 3 ... 0 3 9] [6 7 1 ... 7 1 7]\n",
      "Accuracy:  0.2608780487804878\n",
      "Iteration:  90\n",
      "[9 9 3 ... 0 3 9] [6 7 1 ... 7 1 7]\n",
      "Accuracy:  0.26582926829268294\n"
     ]
    }
   ],
   "source": [
    "w1,b1,w2,b2=gradient_descent(x_train,y_train,100,0.1)"
   ]
  },
  {
   "cell_type": "code",
   "execution_count": 103,
   "id": "78b432dd-f3ca-49fd-98fb-dc8624c97a93",
   "metadata": {},
   "outputs": [],
   "source": [
    "def make_prediction(X,w1,b1,w2,b2):\n",
    "    _,_,_,a2=forward_prop(w1,b1,w2,b2,X)\n",
    "    predictions=get_predictions(a2)\n",
    "    return predictions\n",
    "\n",
    "def test_prediction(index,w1,b1,w2,b2):\n",
    "    current_image=x_train[:,index,None]\n",
    "    prediction=make_prediction(x_train[:,index,None],w1,b1,w2,b2)\n",
    "    label=y_train[index]\n",
    "    print(\"Prediction: \",prediction)\n",
    "    print(\"Label: \",label)\n",
    "\n",
    "    # reshape from 1-D array of 784 pixels to 28X28 original\n",
    "    current_image=current_image.reshape((28,28))*255\n",
    "    plt.gray()\n",
    "    plt.imshow(current_image,interpolation='nearest')\n",
    "    plt.show()"
   ]
  },
  {
   "cell_type": "markdown",
   "id": "c8df4f74-f3bc-4dcd-9dd8-20af22bd1bb4",
   "metadata": {},
   "source": [
    "# making predictions using neural network by forwarding it using forward propagation\n",
    "# highest probablility value is taken as the predicted output\n",
    "# testing predictions using one form the training set which shows what the network thinks it is based on current then reshaping the image from 1-D array of 784 pixels to original (28x28) "
   ]
  },
  {
   "cell_type": "code",
   "execution_count": 116,
   "id": "f83062e9-b8ee-49dc-8b3b-295c5f03c3cf",
   "metadata": {},
   "outputs": [
    {
     "name": "stdout",
     "output_type": "stream",
     "text": [
      "Prediction:  [3]\n",
      "Label:  1\n"
     ]
    },
    {
     "data": {
      "image/png": "[encoded data removed]",
      "text/plain": [
       "<Figure size 640x480 with 1 Axes>"
      ]
     },
     "metadata": {},
     "output_type": "display_data"
    }
   ],
   "source": [
    "test_prediction(3,w1,b1,w2,b2)"
   ]
  },
  {
   "cell_type": "code",
   "execution_count": null,
   "id": "c9b66b21-af4d-434f-88ff-ffa6596b0a67",
   "metadata": {},
   "outputs": [],
   "source": []
  },
  {
   "cell_type": "code",
   "execution_count": null,
   "id": "36585bf1-d77f-43d0-8d9e-86b90e8ac412",
   "metadata": {},
   "outputs": [],
   "source": []
  },
  {
   "cell_type": "code",
   "execution_count": null,
   "id": "e2b85029-7472-498d-adf4-17cb099ec31b",
   "metadata": {},
   "outputs": [],
   "source": []
  }
 ],
 "metadata": {
  "kernelspec": {
   "display_name": "Python [conda env:base] *",
   "language": "python",
   "name": "conda-base-py"
  },
  "language_info": {
   "codemirror_mode": {
    "name": "ipython",
    "version": 3
   },
   "file_extension": ".py",
   "mimetype": "text/x-python",
   "name": "python",
   "nbconvert_exporter": "python",
   "pygments_lexer": "ipython3",
   "version": "3.12.7"
  }
 },
 "nbformat": 4,
 "nbformat_minor": 5
}
