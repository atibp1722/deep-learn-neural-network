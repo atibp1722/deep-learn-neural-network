{
 "cells": [
  {
   "cell_type": "markdown",
   "id": "6fb97fda-96b3-488c-be2f-1d5b20d2d385",
   "metadata": {},
   "source": [
    "# neural network "
   ]
  },
  {
   "cell_type": "code",
   "execution_count": 2,
   "id": "d1c8dc8e-2d6e-4f1d-8dd3-77b6494eaa74",
   "metadata": {},
   "outputs": [],
   "source": [
    "import numpy as np"
   ]
  },
  {
   "cell_type": "code",
   "execution_count": 3,
   "id": "01c0cf4b-e1b3-4b0d-9382-861b1c23a32f",
   "metadata": {},
   "outputs": [
    {
     "name": "stdout",
     "output_type": "stream",
     "text": [
      "[[0. 0. 1.]\n",
      " [0. 1. 1.]\n",
      " [1. 0. 1.]\n",
      " [1. 1. 1.]]\n",
      "Shape of X = (4, 3)\n",
      "---------------\n",
      "[[0.]\n",
      " [1.]\n",
      " [1.]\n",
      " [0.]]\n",
      "Shape of y = (4, 1)\n"
     ]
    }
   ],
   "source": [
    "# each row is a training example, each column is a feature [X1,X2,X3]\n",
    "X = np.array(([0,0,1],[0,1,1],[1,0,1],[1,1,1]), dtype=float)\n",
    "y = np.array(([0],[1],[1],[0]), dtype=float)\n",
    "\n",
    "print(X)\n",
    "print('Shape of X =',X.shape)\n",
    "print(15*'-')\n",
    "print(y)\n",
    "print('Shape of y =',y.shape)"
   ]
  },
  {
   "cell_type": "code",
   "execution_count": 4,
   "id": "4b5984e2-fae3-423e-95c8-871179aa537b",
   "metadata": {},
   "outputs": [],
   "source": [
    "# function for making sure value falls within 0 and 1\n",
    "def sigmoid(t):\n",
    "    return 1/(1+np.exp(-t))\n",
    "\n",
    "# the measure of output of sigmoid function based on how it changes if inputs are slightly adjusted\n",
    "def sigmoid_derivative(p):\n",
    "    return p*(1-p)"
   ]
  },
  {
   "cell_type": "code",
   "execution_count": 8,
   "id": "fa7c85b2-a908-429a-baeb-fbcd7208f061",
   "metadata": {},
   "outputs": [],
   "source": [
    "class NeuralNetwork:\n",
    "    def __init__(self,x,y):\n",
    "        self.input=x\n",
    "        # initializing random weights\n",
    "        self.weights1=np.random.rand(self.input.shape[1],4)\n",
    "        self.weights2=np.random.rand(4,1)\n",
    "        self.y=y\n",
    "        self.output=np.zeros(y.shape)\n",
    "\n",
    "    # the model moves forward where output of the previous layer becomes the input for its successive layer\n",
    "    def feed_forward(self):\n",
    "        # sigmoid function makes the value from 0 to 1\n",
    "        self.layer1=sigmoid(np.dot(self.input,self.weights1))\n",
    "        self.layer2=sigmoid(np.dot(self.layer1,self.weights2))\n",
    "        return self.layer2\n",
    "\n",
    "    # the values for the model need to propagate backwards to update with new values\n",
    "    # it is the chain rule to find derivative of the loss function with respect to weights1, weights2\n",
    "    def back_propagation(self):\n",
    "       d_weights2=np.dot(self.layer1.T, 2*(self.y-self.output)*sigmoid_derivative(self.output))\n",
    "       d_weights1=np.dot(self.input.T, np.dot(2*(self.y-self.output)*sigmoid_derivative(self.output), \n",
    "                  self.weights2.T)*sigmoid_derivative(self.layer1))\n",
    "\n",
    "       # update the value of weights with the derivative of the loss function\n",
    "       self.weights1+=d_weights1\n",
    "       self.weights2+=d_weights2\n",
    "\n",
    "    def train(self):\n",
    "        self.output=self.feed_forward()\n",
    "        self.back_propagation()"
   ]
  },
  {
   "cell_type": "code",
   "execution_count": 10,
   "id": "0250de92-f50c-4116-8fbd-155232a22c1a",
   "metadata": {},
   "outputs": [
    {
     "name": "stdout",
     "output_type": "stream",
     "text": [
      "Input:\n",
      "[[0. 0. 1.]\n",
      " [0. 1. 1.]\n",
      " [1. 0. 1.]\n",
      " [1. 1. 1.]]\n",
      "\n",
      "Actual output:\n",
      "[[0.]\n",
      " [1.]\n",
      " [1.]\n",
      " [0.]]\n"
     ]
    }
   ],
   "source": [
    "print(\"Input:\\n\"+str(X))\n",
    "print(\"\\nActual output:\\n\"+str(y))"
   ]
  },
  {
   "cell_type": "code",
   "execution_count": 12,
   "id": "2970040e-cb01-4036-828f-63ccf6a88265",
   "metadata": {},
   "outputs": [
    {
     "name": "stdout",
     "output_type": "stream",
     "text": [
      "For iteration #0\n",
      "\n",
      "Predicted output: \n",
      "[[0.72832828]\n",
      " [0.76362301]\n",
      " [0.75218843]\n",
      " [0.77922578]]\n",
      "Loss: \n",
      "0.3137348889693125\n",
      "-----------------\n",
      "\n",
      "For iteration #100\n",
      "\n",
      "Predicted output: \n",
      "[[0.39344583]\n",
      " [0.52074531]\n",
      " [0.5763873 ]\n",
      " [0.54547979]]\n",
      "Loss: \n",
      "0.21537015138018903\n",
      "-----------------\n",
      "\n",
      "For iteration #200\n",
      "\n",
      "Predicted output: \n",
      "[[0.11102875]\n",
      " [0.77493577]\n",
      " [0.78868046]\n",
      " [0.27309896]]\n",
      "Loss: \n",
      "0.045555071171049025\n",
      "-----------------\n",
      "\n",
      "For iteration #300\n",
      "\n",
      "Predicted output: \n",
      "[[0.05001419]\n",
      " [0.88200345]\n",
      " [0.88633913]\n",
      " [0.14024293]]\n",
      "Loss: \n",
      "0.012252869613234078\n",
      "-----------------\n",
      "\n",
      "For iteration #400\n",
      "\n",
      "Predicted output: \n",
      "[[0.03338307]\n",
      " [0.91439138]\n",
      " [0.91700022]\n",
      " [0.10123697]]\n",
      "Loss: \n",
      "0.006395288276939701\n",
      "-----------------\n",
      "\n",
      "For iteration #500\n",
      "\n",
      "Predicted output: \n",
      "[[0.02578067]\n",
      " [0.9303317 ]\n",
      " [0.9321918 ]\n",
      " [0.08219767]]\n",
      "Loss: \n",
      "0.004218180780454452\n",
      "-----------------\n",
      "\n",
      "For iteration #600\n",
      "\n",
      "Predicted output: \n",
      "[[0.02136723]\n",
      " [0.94007262]\n",
      " [0.94151474]\n",
      " [0.07060489]]\n",
      "Loss: \n",
      "0.0031133564200092976\n",
      "-----------------\n",
      "\n",
      "For iteration #700\n",
      "\n",
      "Predicted output: \n",
      "[[0.01845201]\n",
      " [0.94676188]\n",
      " [0.94793846]\n",
      " [0.06265916]]\n",
      "Loss: \n",
      "0.0024528368102213374\n",
      "-----------------\n",
      "\n",
      "For iteration #800\n",
      "\n",
      "Predicted output: \n",
      "[[0.01636552]\n",
      " [0.95170104]\n",
      " [0.95269492]\n",
      " [0.05679889]]\n",
      "Loss: \n",
      "0.0020161259648094946\n",
      "-----------------\n",
      "\n",
      "For iteration #900\n",
      "\n",
      "Predicted output: \n",
      "[[0.01478845]\n",
      " [0.95553236]\n",
      " [0.9563935 ]\n",
      " [0.05225627]]\n",
      "Loss: \n",
      "0.0017070785667265516\n",
      "-----------------\n",
      "\n"
     ]
    }
   ],
   "source": [
    "NN=NeuralNetwork(X,y)\n",
    "\n",
    "loss_lst=[]\n",
    "\n",
    "# train the loss function 1000 times\n",
    "for i in range(1000):\n",
    "    # make predictions with current weights and compare them with actual output\n",
    "    # MSE is difference of predicted and actual output\n",
    "    predicted=NN.feed_forward()\n",
    "    loss=np.mean(np.square(y-predicted))\n",
    "    loss_lst.append(loss)\n",
    "\n",
    "    if i%100==0:\n",
    "        print(\"For iteration #\"+str(i)+\"\\n\")\n",
    "        print(\"Predicted output: \\n\"+str(predicted))\n",
    "        print(\"Loss: \\n\"+str(loss))\n",
    "        print(\"-----------------\\n\")\n",
    "\n",
    "    NN.train()"
   ]
  },
  {
   "cell_type": "code",
   "execution_count": 14,
   "id": "8fbb1504-3ab7-4b20-a44a-7051dde584f0",
   "metadata": {},
   "outputs": [
    {
     "data": {
      "image/png": "[encoded data removed]",
      "text/plain": [
       "<Figure size 640x480 with 1 Axes>"
      ]
     },
     "metadata": {},
     "output_type": "display_data"
    }
   ],
   "source": [
    "import matplotlib.pyplot as plt\n",
    "\n",
    "plt.plot(np.arange(1,len(loss_lst)+1),loss_lst)\n",
    "plt.xlabel('Num of iteration')\n",
    "plt.ylabel('Loss');"
   ]
  },
  {
   "cell_type": "code",
   "execution_count": null,
   "id": "dde63a84-960f-43bf-a7ca-3bc03b777c65",
   "metadata": {},
   "outputs": [],
   "source": []
  },
  {
   "cell_type": "code",
   "execution_count": null,
   "id": "33f7f263-667a-47fe-98dd-b458af6193e2",
   "metadata": {},
   "outputs": [],
   "source": []
  }
 ],
 "metadata": {
  "kernelspec": {
   "display_name": "Python [conda env:base] *",
   "language": "python",
   "name": "conda-base-py"
  },
  "language_info": {
   "codemirror_mode": {
    "name": "ipython",
    "version": 3
   },
   "file_extension": ".py",
   "mimetype": "text/x-python",
   "name": "python",
   "nbconvert_exporter": "python",
   "pygments_lexer": "ipython3",
   "version": "3.12.7"
  }
 },
 "nbformat": 4,
 "nbformat_minor": 5
}
