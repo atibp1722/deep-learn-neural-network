{
 "cells": [
  {
   "cell_type": "markdown",
   "id": "d904d0f0-2e29-4353-b5ba-78daf9cfc71c",
   "metadata": {},
   "source": [
    "initial setup for tensorflow and keras"
   ]
  },
  {
   "cell_type": "code",
   "execution_count": 22,
   "id": "674d4235-dc5b-48e5-b8a7-ef840d289dcb",
   "metadata": {},
   "outputs": [],
   "source": [
    "# importing the libraries\n",
    "import tensorflow as tf\n",
    "from tensorflow import keras\n",
    "from tensorflow.keras import layers"
   ]
  },
  {
   "cell_type": "code",
   "execution_count": 24,
   "id": "4b1d6c65-bdde-4dfc-a877-ac66b42349c4",
   "metadata": {},
   "outputs": [
    {
     "name": "stdout",
     "output_type": "stream",
     "text": [
      "Downloading data from https://storage.googleapis.com/tensorflow/tf-keras-datasets/mnist.npz\n",
      "\u001b[1m11490434/11490434\u001b[0m \u001b[32m━━━━━━━━━━━━━━━━━━━━\u001b[0m\u001b[37m\u001b[0m \u001b[1m3s\u001b[0m 0us/step\n"
     ]
    }
   ],
   "source": [
    "(X_train,y_train),(X_test,y_test)=keras.datasets.mnist.load_data()"
   ]
  },
  {
   "cell_type": "markdown",
   "id": "5337daf6-6efa-44d7-b8f6-b3f7b8455836",
   "metadata": {},
   "source": [
    "MNIST is the dataset that contains handrwritten 0-9 digits \n",
    "\n",
    "X_train holds the data that is used to train the model\n",
    "\n",
    "X_test is the data that is used to test the model\n",
    "\n",
    "y_train are the traning labels that contain correct label for each digit\n",
    "\n",
    "y_test is the testing label"
   ]
  },
  {
   "cell_type": "code",
   "execution_count": 27,
   "id": "8ca89b49-55c7-491f-995c-a499584d5159",
   "metadata": {},
   "outputs": [],
   "source": [
    "# reshaping and normalizing data\n",
    "\n",
    "X_train=X_train.reshape(-1,28*28)/255\n",
    "X_test=X_test.reshape(-1,28*28)/255"
   ]
  },
  {
   "cell_type": "code",
   "execution_count": 29,
   "id": "1c96f783-874b-4041-ab2f-71c29f2382c6",
   "metadata": {},
   "outputs": [
    {
     "name": "stdout",
     "output_type": "stream",
     "text": [
      "[[0. 0. 0. ... 0. 0. 0.]\n",
      " [0. 0. 0. ... 0. 0. 0.]\n",
      " [0. 0. 0. ... 0. 0. 0.]\n",
      " ...\n",
      " [0. 0. 0. ... 0. 0. 0.]\n",
      " [0. 0. 0. ... 0. 0. 0.]\n",
      " [0. 0. 0. ... 0. 0. 0.]]\n"
     ]
    }
   ],
   "source": [
    "print(X_train)"
   ]
  },
  {
   "cell_type": "code",
   "execution_count": 31,
   "id": "cb3551dd-b1b8-456c-8299-d41ab8ac1774",
   "metadata": {},
   "outputs": [
    {
     "name": "stdout",
     "output_type": "stream",
     "text": [
      "[[0. 0. 0. ... 0. 0. 0.]\n",
      " [0. 0. 0. ... 0. 0. 0.]\n",
      " [0. 0. 0. ... 0. 0. 0.]\n",
      " ...\n",
      " [0. 0. 0. ... 0. 0. 0.]\n",
      " [0. 0. 0. ... 0. 0. 0.]\n",
      " [0. 0. 0. ... 0. 0. 0.]]\n"
     ]
    }
   ],
   "source": [
    "print(X_test)"
   ]
  },
  {
   "cell_type": "markdown",
   "id": "2207f913-8443-4392-8f22-fa508a00cd1c",
   "metadata": {},
   "source": [
    "since the model accepts 1-D array, the images need to be flatten so that it is represented as continous rather than 2-D array\n",
    "\n",
    "dividing by 255 makes sure that the value is within 0-1 "
   ]
  },
  {
   "cell_type": "code",
   "execution_count": 36,
   "id": "3af712a8-3a82-4038-ba9c-6cdfd7f6b9e3",
   "metadata": {},
   "outputs": [],
   "source": [
    "# model creation and compilation\n",
    "\n",
    "model=keras.Sequential([\n",
    "    layers.Dense(64,activation='relu'),\n",
    "    layers.Dense(10)\n",
    "])\n",
    "\n",
    "model.compile(\n",
    "    loss=keras.losses.SparseCategoricalCrossentropy(from_logits=True),\n",
    "    optimizer=keras.optimizers.Adam(),\n",
    "    metrics=['accuracy']\n",
    ")"
   ]
  },
  {
   "cell_type": "markdown",
   "id": "f69a064b-d3cf-4fee-b9ab-d0f9bfa94f40",
   "metadata": {},
   "source": [
    "the model create layers that move forward with 64 neurons \n",
    "\n",
    "relu activation basically returns value if > 0 else is returns 0\n",
    "\n",
    "adam optimzier used to update the weight with each training instance "
   ]
  },
  {
   "cell_type": "code",
   "execution_count": 39,
   "id": "aee07cc7-31c1-47a1-8240-380bc3526479",
   "metadata": {},
   "outputs": [
    {
     "name": "stdout",
     "output_type": "stream",
     "text": [
      "Epoch 1/5\n",
      "\u001b[1m1875/1875\u001b[0m \u001b[32m━━━━━━━━━━━━━━━━━━━━\u001b[0m\u001b[37m\u001b[0m \u001b[1m13s\u001b[0m 5ms/step - accuracy: 0.8654 - loss: 0.4846\n",
      "Epoch 2/5\n",
      "\u001b[1m1875/1875\u001b[0m \u001b[32m━━━━━━━━━━━━━━━━━━━━\u001b[0m\u001b[37m\u001b[0m \u001b[1m10s\u001b[0m 5ms/step - accuracy: 0.9570 - loss: 0.1502\n",
      "Epoch 3/5\n",
      "\u001b[1m1875/1875\u001b[0m \u001b[32m━━━━━━━━━━━━━━━━━━━━\u001b[0m\u001b[37m\u001b[0m \u001b[1m10s\u001b[0m 5ms/step - accuracy: 0.9703 - loss: 0.1032\n",
      "Epoch 4/5\n",
      "\u001b[1m1875/1875\u001b[0m \u001b[32m━━━━━━━━━━━━━━━━━━━━\u001b[0m\u001b[37m\u001b[0m \u001b[1m10s\u001b[0m 5ms/step - accuracy: 0.9763 - loss: 0.0819\n",
      "Epoch 5/5\n",
      "\u001b[1m1875/1875\u001b[0m \u001b[32m━━━━━━━━━━━━━━━━━━━━\u001b[0m\u001b[37m\u001b[0m \u001b[1m10s\u001b[0m 5ms/step - accuracy: 0.9803 - loss: 0.0681\n",
      "\u001b[1m313/313\u001b[0m \u001b[32m━━━━━━━━━━━━━━━━━━━━\u001b[0m\u001b[37m\u001b[0m \u001b[1m2s\u001b[0m 5ms/step - accuracy: 0.9675 - loss: 0.1162\n"
     ]
    },
    {
     "data": {
      "text/plain": [
       "[0.09853621572256088, 0.9715999960899353]"
      ]
     },
     "execution_count": 39,
     "metadata": {},
     "output_type": "execute_result"
    }
   ],
   "source": [
    "#tain model and evaluate performance\n",
    "\n",
    "model.fit(X_train,y_train,batch_size=32,epochs=5)\n",
    "model.evaluate(X_test,y_test)"
   ]
  },
  {
   "cell_type": "markdown",
   "id": "efb48996-de24-4053-905c-83dcdb5fbc2d",
   "metadata": {},
   "source": [
    "training the model with 32 instances of data and repeat 5 times on the same training dataset\n",
    "\n",
    "evaluation done to check how well the model is accurately able to correctly label new data"
   ]
  },
  {
   "cell_type": "code",
   "execution_count": null,
   "id": "ea767e2e-9851-4c56-bdf4-e4d57bbac2ed",
   "metadata": {},
   "outputs": [],
   "source": []
  },
  {
   "cell_type": "code",
   "execution_count": null,
   "id": "7bcc533c-1a97-457d-8be5-668e3fcb1e6c",
   "metadata": {},
   "outputs": [],
   "source": []
  },
  {
   "cell_type": "code",
   "execution_count": null,
   "id": "a6faf675-1f9d-4732-a096-2d796ca2b1a3",
   "metadata": {},
   "outputs": [],
   "source": []
  },
  {
   "cell_type": "code",
   "execution_count": null,
   "id": "35d3a261-ecf8-4b97-b551-585be08993e3",
   "metadata": {},
   "outputs": [],
   "source": []
  },
  {
   "cell_type": "code",
   "execution_count": null,
   "id": "84158cb3-9dba-4438-b6ed-baa08cf73751",
   "metadata": {},
   "outputs": [],
   "source": []
  }
 ],
 "metadata": {
  "kernelspec": {
   "display_name": "Python [conda env:base] *",
   "language": "python",
   "name": "conda-base-py"
  },
  "language_info": {
   "codemirror_mode": {
    "name": "ipython",
    "version": 3
   },
   "file_extension": ".py",
   "mimetype": "text/x-python",
   "name": "python",
   "nbconvert_exporter": "python",
   "pygments_lexer": "ipython3",
   "version": "3.12.7"
  }
 },
 "nbformat": 4,
 "nbformat_minor": 5
}
