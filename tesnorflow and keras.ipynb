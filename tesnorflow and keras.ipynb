{
 "cells": [
  {
   "cell_type": "markdown",
   "id": "d904d0f0-2e29-4353-b5ba-78daf9cfc71c",
   "metadata": {},
   "source": [
    "initial setup for tensorflow and keras"
   ]
  },
  {
   "cell_type": "code",
   "execution_count": null,
   "id": "674d4235-dc5b-48e5-b8a7-ef840d289dcb",
   "metadata": {},
   "outputs": [],
   "source": [
    "# importing the libraries\n",
    "import tensorflow as tf\n",
    "from tensorflow import keras\n",
    "from tensorflow.keras import layers"
   ]
  },
  {
   "cell_type": "code",
   "execution_count": null,
   "id": "4b1d6c65-bdde-4dfc-a877-ac66b42349c4",
   "metadata": {},
   "outputs": [],
   "source": [
    "(X_train,y_train),(X_test,y_test)=keras.datasets.mnist.load_data()"
   ]
  },
  {
   "cell_type": "markdown",
   "id": "5337daf6-6efa-44d7-b8f6-b3f7b8455836",
   "metadata": {},
   "source": [
    "MNIST is the dataset that contains handrwritten 0-9 digits \n",
    "\n",
    "X_train holds the data that is used to train the model\n",
    "\n",
    "X_test is the data that is used to test the model\n",
    "\n",
    "y_train are the traning labels that contain correct label for each digit\n",
    "\n",
    "y_test is the testing label"
   ]
  },
  {
   "cell_type": "code",
   "execution_count": null,
   "id": "8ca89b49-55c7-491f-995c-a499584d5159",
   "metadata": {},
   "outputs": [],
   "source": [
    "# reshaping and normalizing data\n",
    "\n",
    "X_train=X_train.reshape(-1,28*28)/255\n",
    "X_test=X_test.reshape(-1,28*28)/255"
   ]
  },
  {
   "cell_type": "markdown",
   "id": "2207f913-8443-4392-8f22-fa508a00cd1c",
   "metadata": {},
   "source": [
    "since the model accepts 1-D array, the images need to be flatten so that it is represented as continous rather than 2-D array\n",
    "\n",
    "dividing by 255 makes sure that the value is within 0-1 "
   ]
  },
  {
   "cell_type": "code",
   "execution_count": null,
   "id": "3af712a8-3a82-4038-ba9c-6cdfd7f6b9e3",
   "metadata": {},
   "outputs": [],
   "source": [
    "# model creation and compilation\n",
    "\n",
    "model=keras.Sequential([\n",
    "    layers.Dense(64,activation='relu'),\n",
    "    layers.Dense(10)\n",
    "])\n",
    "\n",
    "model.compile(\n",
    "    loss=keras.losses.SparseCategoricalCrossEntropy(from_logits=True),\n",
    "    optimizer=keras.optimizers.Adam(),\n",
    "    metrics=['accuracy']\n",
    ")"
   ]
  },
  {
   "cell_type": "markdown",
   "id": "f69a064b-d3cf-4fee-b9ab-d0f9bfa94f40",
   "metadata": {},
   "source": [
    "the model create layers that move forward with 64 neurons \n",
    "\n",
    "relu activation basically returns value if > 0 else is returns 0\n",
    "\n",
    "adam optimzier used to update the weight with each training instance "
   ]
  },
  {
   "cell_type": "code",
   "execution_count": null,
   "id": "aee07cc7-31c1-47a1-8240-380bc3526479",
   "metadata": {},
   "outputs": [],
   "source": [
    "#tain model and evaluate performance\n",
    "\n",
    "model.fit(X_train,y_train,batch_size=32,epochs=5)\n",
    "model.evaluate(X_test,y_test)"
   ]
  },
  {
   "cell_type": "markdown",
   "id": "efb48996-de24-4053-905c-83dcdb5fbc2d",
   "metadata": {},
   "source": [
    "training the model with 32 instances of data and repeat 5 times on the same training dataset\n",
    "\n",
    "evaluation done to check how well the model is accurately able to correctly label new data"
   ]
  },
  {
   "cell_type": "code",
   "execution_count": null,
   "id": "ea767e2e-9851-4c56-bdf4-e4d57bbac2ed",
   "metadata": {},
   "outputs": [],
   "source": []
  },
  {
   "cell_type": "code",
   "execution_count": null,
   "id": "7bcc533c-1a97-457d-8be5-668e3fcb1e6c",
   "metadata": {},
   "outputs": [],
   "source": []
  },
  {
   "cell_type": "code",
   "execution_count": null,
   "id": "a6faf675-1f9d-4732-a096-2d796ca2b1a3",
   "metadata": {},
   "outputs": [],
   "source": []
  },
  {
   "cell_type": "code",
   "execution_count": null,
   "id": "35d3a261-ecf8-4b97-b551-585be08993e3",
   "metadata": {},
   "outputs": [],
   "source": []
  },
  {
   "cell_type": "code",
   "execution_count": null,
   "id": "84158cb3-9dba-4438-b6ed-baa08cf73751",
   "metadata": {},
   "outputs": [],
   "source": []
  }
 ],
 "metadata": {
  "kernelspec": {
   "display_name": "Python [conda env:base] *",
   "language": "python",
   "name": "conda-base-py"
  },
  "language_info": {
   "codemirror_mode": {
    "name": "ipython",
    "version": 3
   },
   "file_extension": ".py",
   "mimetype": "text/x-python",
   "name": "python",
   "nbconvert_exporter": "python",
   "pygments_lexer": "ipython3",
   "version": "3.12.7"
  }
 },
 "nbformat": 4,
 "nbformat_minor": 5
}
