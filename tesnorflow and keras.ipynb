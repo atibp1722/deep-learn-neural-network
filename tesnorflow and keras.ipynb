{
 "cells": [
  {
   "cell_type": "markdown",
   "id": "d904d0f0-2e29-4353-b5ba-78daf9cfc71c",
   "metadata": {},
   "source": [
    "initial setup for tensorflow and keras"
   ]
  },
  {
   "cell_type": "code",
   "execution_count": null,
   "id": "674d4235-dc5b-48e5-b8a7-ef840d289dcb",
   "metadata": {},
   "outputs": [],
   "source": [
    "# importing the libraries\n",
    "import tensorflow as tf\n",
    "from tensorflow import keras\n",
    "from tensorflow.keras import layers"
   ]
  },
  {
   "cell_type": "code",
   "execution_count": null,
   "id": "4b1d6c65-bdde-4dfc-a877-ac66b42349c4",
   "metadata": {},
   "outputs": [],
   "source": [
    "(X_train,y_train),(X_test,y_test)=keras.datasets.mnist.load_data()"
   ]
  },
  {
   "cell_type": "markdown",
   "id": "5337daf6-6efa-44d7-b8f6-b3f7b8455836",
   "metadata": {},
   "source": [
    "MNIST is the dataset that contains handrwritten 0-9 digits \n",
    "\n",
    "X_train holds the data that is used to train the model\n",
    "\n",
    "X_test is the data that is used to test the model\n",
    "\n",
    "y_train are the traning labels that contain correct label for each digit\n",
    "\n",
    "y_test is the testing label"
   ]
  },
  {
   "cell_type": "code",
   "execution_count": null,
   "id": "8ca89b49-55c7-491f-995c-a499584d5159",
   "metadata": {},
   "outputs": [],
   "source": [
    "# reshaping and normalizing data\n",
    "\n",
    "X_train=X_train.reshape(-1,28*28)/255\n",
    "X_test=X_test.reshape(-1,28*28)/255"
   ]
  },
  {
   "cell_type": "markdown",
   "id": "2207f913-8443-4392-8f22-fa508a00cd1c",
   "metadata": {},
   "source": [
    "since the model accepts 1-D array, the images need to be flatten so that it is represented as continous rather than 2-D array\n",
    "\n",
    "dividing by 255 makes sure that the value is within 0-1 "
   ]
  },
  {
   "cell_type": "code",
   "execution_count": null,
   "id": "3af712a8-3a82-4038-ba9c-6cdfd7f6b9e3",
   "metadata": {},
   "outputs": [],
   "source": []
  },
  {
   "cell_type": "code",
   "execution_count": null,
   "id": "fbc79757-06fc-4918-acc9-10e47439e17a",
   "metadata": {},
   "outputs": [],
   "source": []
  },
  {
   "cell_type": "code",
   "execution_count": null,
   "id": "064dc946-207e-492a-a63b-5d6bf94c62e1",
   "metadata": {},
   "outputs": [],
   "source": []
  },
  {
   "cell_type": "code",
   "execution_count": null,
   "id": "ea767e2e-9851-4c56-bdf4-e4d57bbac2ed",
   "metadata": {},
   "outputs": [],
   "source": []
  }
 ],
 "metadata": {
  "kernelspec": {
   "display_name": "Python [conda env:base] *",
   "language": "python",
   "name": "conda-base-py"
  },
  "language_info": {
   "codemirror_mode": {
    "name": "ipython",
    "version": 3
   },
   "file_extension": ".py",
   "mimetype": "text/x-python",
   "name": "python",
   "nbconvert_exporter": "python",
   "pygments_lexer": "ipython3",
   "version": "3.12.7"
  }
 },
 "nbformat": 4,
 "nbformat_minor": 5
}
