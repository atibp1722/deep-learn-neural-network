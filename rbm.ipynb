{
 "cells": [
  {
   "cell_type": "code",
   "execution_count": 5,
   "id": "2c375c51-fc22-4576-a94e-6cdfe19bf273",
   "metadata": {},
   "outputs": [
    {
     "name": "stdout",
     "output_type": "stream",
     "text": [
      "2.7.1+cpu\n"
     ]
    }
   ],
   "source": [
    "import torch\n",
    "print(torch.__version__)"
   ]
  },
  {
   "cell_type": "code",
   "execution_count": 7,
   "id": "9505eba5-b7f3-4e6a-941e-d0599baeed9d",
   "metadata": {},
   "outputs": [],
   "source": [
    "#import libraries\n",
    "import numpy as np\n",
    "import pandas as pd\n",
    "import torch\n",
    "import torch.nn as nn\n",
    "import torch.nn.parallel\n",
    "import torch.optim as optim\n",
    "import torch.utils.data\n",
    "from torch.autograd import variable"
   ]
  },
  {
   "cell_type": "code",
   "execution_count": 13,
   "id": "829527ab-9ba9-4fca-b06e-93bb67b734f4",
   "metadata": {},
   "outputs": [],
   "source": [
    "#load and read data from Movielens\n",
    "\n",
    "#movie information dataset\n",
    "movies=pd.read_csv('data/datasets/movies.dat',sep='::',header=None,\n",
    "                   engine='python',encoding='latin-1')\n",
    "\n",
    "#users information dataset\n",
    "users=pd.read_csv('data/datasets/users.dat',sep='::',header=None,\n",
    "                  engine='python',encoding='latin-1')\n",
    "\n",
    "#ratings information dataset\n",
    "ratings=pd.read_csv('data/datasets/ratings.dat',sep='::',header=None,\n",
    "                    engine='python',encoding='latin-1')"
   ]
  },
  {
   "cell_type": "code",
   "execution_count": 18,
   "id": "524a1600-1cbd-4d9f-bcd5-ed26d864d682",
   "metadata": {},
   "outputs": [
    {
     "data": {
      "text/html": [
       "<div>\n",
       "<style scoped>\n",
       "    .dataframe tbody tr th:only-of-type {\n",
       "        vertical-align: middle;\n",
       "    }\n",
       "\n",
       "    .dataframe tbody tr th {\n",
       "        vertical-align: top;\n",
       "    }\n",
       "\n",
       "    .dataframe thead th {\n",
       "        text-align: right;\n",
       "    }\n",
       "</style>\n",
       "<table border=\"1\" class=\"dataframe\">\n",
       "  <thead>\n",
       "    <tr style=\"text-align: right;\">\n",
       "      <th></th>\n",
       "      <th>0</th>\n",
       "      <th>1</th>\n",
       "      <th>2</th>\n",
       "    </tr>\n",
       "  </thead>\n",
       "  <tbody>\n",
       "    <tr>\n",
       "      <th>0</th>\n",
       "      <td>1</td>\n",
       "      <td>Toy Story (1995)</td>\n",
       "      <td>Animation|Children's|Comedy</td>\n",
       "    </tr>\n",
       "    <tr>\n",
       "      <th>1</th>\n",
       "      <td>2</td>\n",
       "      <td>Jumanji (1995)</td>\n",
       "      <td>Adventure|Children's|Fantasy</td>\n",
       "    </tr>\n",
       "    <tr>\n",
       "      <th>2</th>\n",
       "      <td>3</td>\n",
       "      <td>Grumpier Old Men (1995)</td>\n",
       "      <td>Comedy|Romance</td>\n",
       "    </tr>\n",
       "  </tbody>\n",
       "</table>\n",
       "</div>"
      ],
      "text/plain": [
       "   0                        1                             2\n",
       "0  1         Toy Story (1995)   Animation|Children's|Comedy\n",
       "1  2           Jumanji (1995)  Adventure|Children's|Fantasy\n",
       "2  3  Grumpier Old Men (1995)                Comedy|Romance"
      ]
     },
     "execution_count": 18,
     "metadata": {},
     "output_type": "execute_result"
    }
   ],
   "source": [
    "movies.head(3)"
   ]
  },
  {
   "cell_type": "code",
   "execution_count": 20,
   "id": "1b389009-4900-4b42-9882-a87bacfbd5c7",
   "metadata": {},
   "outputs": [
    {
     "data": {
      "text/html": [
       "<div>\n",
       "<style scoped>\n",
       "    .dataframe tbody tr th:only-of-type {\n",
       "        vertical-align: middle;\n",
       "    }\n",
       "\n",
       "    .dataframe tbody tr th {\n",
       "        vertical-align: top;\n",
       "    }\n",
       "\n",
       "    .dataframe thead th {\n",
       "        text-align: right;\n",
       "    }\n",
       "</style>\n",
       "<table border=\"1\" class=\"dataframe\">\n",
       "  <thead>\n",
       "    <tr style=\"text-align: right;\">\n",
       "      <th></th>\n",
       "      <th>0</th>\n",
       "      <th>1</th>\n",
       "      <th>2</th>\n",
       "      <th>3</th>\n",
       "      <th>4</th>\n",
       "    </tr>\n",
       "  </thead>\n",
       "  <tbody>\n",
       "    <tr>\n",
       "      <th>0</th>\n",
       "      <td>1</td>\n",
       "      <td>F</td>\n",
       "      <td>1</td>\n",
       "      <td>10</td>\n",
       "      <td>48067</td>\n",
       "    </tr>\n",
       "    <tr>\n",
       "      <th>1</th>\n",
       "      <td>2</td>\n",
       "      <td>M</td>\n",
       "      <td>56</td>\n",
       "      <td>16</td>\n",
       "      <td>70072</td>\n",
       "    </tr>\n",
       "    <tr>\n",
       "      <th>2</th>\n",
       "      <td>3</td>\n",
       "      <td>M</td>\n",
       "      <td>25</td>\n",
       "      <td>15</td>\n",
       "      <td>55117</td>\n",
       "    </tr>\n",
       "  </tbody>\n",
       "</table>\n",
       "</div>"
      ],
      "text/plain": [
       "   0  1   2   3      4\n",
       "0  1  F   1  10  48067\n",
       "1  2  M  56  16  70072\n",
       "2  3  M  25  15  55117"
      ]
     },
     "execution_count": 20,
     "metadata": {},
     "output_type": "execute_result"
    }
   ],
   "source": [
    "users.head(3)"
   ]
  },
  {
   "cell_type": "code",
   "execution_count": 22,
   "id": "3272ae8a-05a8-4f1d-97cc-350076c3742e",
   "metadata": {},
   "outputs": [
    {
     "data": {
      "text/html": [
       "<div>\n",
       "<style scoped>\n",
       "    .dataframe tbody tr th:only-of-type {\n",
       "        vertical-align: middle;\n",
       "    }\n",
       "\n",
       "    .dataframe tbody tr th {\n",
       "        vertical-align: top;\n",
       "    }\n",
       "\n",
       "    .dataframe thead th {\n",
       "        text-align: right;\n",
       "    }\n",
       "</style>\n",
       "<table border=\"1\" class=\"dataframe\">\n",
       "  <thead>\n",
       "    <tr style=\"text-align: right;\">\n",
       "      <th></th>\n",
       "      <th>0</th>\n",
       "      <th>1</th>\n",
       "      <th>2</th>\n",
       "      <th>3</th>\n",
       "    </tr>\n",
       "  </thead>\n",
       "  <tbody>\n",
       "    <tr>\n",
       "      <th>0</th>\n",
       "      <td>1</td>\n",
       "      <td>1193</td>\n",
       "      <td>5</td>\n",
       "      <td>978300760</td>\n",
       "    </tr>\n",
       "    <tr>\n",
       "      <th>1</th>\n",
       "      <td>1</td>\n",
       "      <td>661</td>\n",
       "      <td>3</td>\n",
       "      <td>978302109</td>\n",
       "    </tr>\n",
       "    <tr>\n",
       "      <th>2</th>\n",
       "      <td>1</td>\n",
       "      <td>914</td>\n",
       "      <td>3</td>\n",
       "      <td>978301968</td>\n",
       "    </tr>\n",
       "  </tbody>\n",
       "</table>\n",
       "</div>"
      ],
      "text/plain": [
       "   0     1  2          3\n",
       "0  1  1193  5  978300760\n",
       "1  1   661  3  978302109\n",
       "2  1   914  3  978301968"
      ]
     },
     "execution_count": 22,
     "metadata": {},
     "output_type": "execute_result"
    }
   ],
   "source": [
    "ratings.head(3)"
   ]
  },
  {
   "cell_type": "code",
   "execution_count": 38,
   "id": "701caff0-8c5d-474f-a688-79d720fa8843",
   "metadata": {},
   "outputs": [],
   "source": [
    "#trainng and testing datasets\n",
    "\n",
    "#training set --> user id, movie id, rating, timestamp\n",
    "training_set=pd.read_csv('data/datasets/ml-100k/u1.base',delimiter='\\t',header=None)\n",
    "#convert pandas dataframe into numpy as array\n",
    "training_set=np.array(training_set,dtype='int')\n",
    "\n",
    "#testing set for model evaluation\n",
    "test_set=pd.read_csv('data/datasets/ml-100k/u1.test',delimiter='\\t',header=None)\n",
    "test_set=np.array(test_set,dtype='int')"
   ]
  },
  {
   "cell_type": "code",
   "execution_count": 40,
   "id": "ebcd3796-edb0-42d6-bfa6-80222aba136e",
   "metadata": {},
   "outputs": [
    {
     "data": {
      "text/plain": [
       "array([[        1,         1,         5, 874965758],\n",
       "       [        1,         2,         3, 876893171],\n",
       "       [        1,         3,         4, 878542960],\n",
       "       ...,\n",
       "       [      943,      1188,         3, 888640250],\n",
       "       [      943,      1228,         3, 888640275],\n",
       "       [      943,      1330,         3, 888692465]])"
      ]
     },
     "execution_count": 40,
     "metadata": {},
     "output_type": "execute_result"
    }
   ],
   "source": [
    "training_set"
   ]
  },
  {
   "cell_type": "code",
   "execution_count": 42,
   "id": "ef93b848-4cea-40c9-8504-09ef9717ac41",
   "metadata": {},
   "outputs": [
    {
     "data": {
      "text/plain": [
       "array([[        1,         6,         5, 887431973],\n",
       "       [        1,        10,         3, 875693118],\n",
       "       [        1,        12,         5, 878542960],\n",
       "       ...,\n",
       "       [      459,       934,         3, 879563639],\n",
       "       [      460,        10,         3, 882912371],\n",
       "       [      462,       682,         5, 886365231]])"
      ]
     },
     "execution_count": 42,
     "metadata": {},
     "output_type": "execute_result"
    }
   ],
   "source": [
    "test_set"
   ]
  },
  {
   "cell_type": "code",
   "execution_count": 48,
   "id": "a9da4d44-d8c9-4624-9f3c-9fe240b8100b",
   "metadata": {},
   "outputs": [
    {
     "data": {
      "text/plain": [
       "(943, 1682)"
      ]
     },
     "execution_count": 48,
     "metadata": {},
     "output_type": "execute_result"
    }
   ],
   "source": [
    "#get maximum value users and movies from trainign and test set\n",
    "nb_users=int(max(max(training_set[:,0]),max(test_set[:,0])))\n",
    "nb_movies=int(max(max(training_set[:,1]),max(test_set[:,1])))\n",
    "\n",
    "nb_users,nb_movies"
   ]
  },
  {
   "cell_type": "code",
   "execution_count": 50,
   "id": "eee9b5fc-4aeb-4fc4-96f7-f2af9bb65565",
   "metadata": {},
   "outputs": [],
   "source": [
    "#convert data into array with user as row and movie as column\n",
    "def convert(data):\n",
    "    new_data=[]\n",
    "    for id_users in range(1,nb_users+1):\n",
    "        #movie id rated by users\n",
    "        id_movies=data[:,1][data[:,0]==id_users]\n",
    "        #ratings given by the users\n",
    "        id_ratings=data[:,2][data[:,0]==id_users]\n",
    "\n",
    "        #set 0 as default when no rating is available\n",
    "        ratings=np.zeros(nb_movies)\n",
    "        #movie rating bassed on index value\n",
    "        ratings[id_movies-1]=id_ratings\n",
    "        new_data.append(list(ratings))\n",
    "    print('id_movies:',id_movies)\n",
    "    print('id_ratings:',id_ratings)\n",
    "    print('ratings:',ratings)\n",
    "    return new_data"
   ]
  },
  {
   "cell_type": "code",
   "execution_count": 52,
   "id": "57c9244d-4728-4956-b27a-cf0d24c86bdb",
   "metadata": {},
   "outputs": [
    {
     "name": "stdout",
     "output_type": "stream",
     "text": [
      "id_movies: [   2    9   11   12   22   23   24   27   28   31   38   41   42   50\n",
      "   51   53   54   55   56   58   62   64   67   68   69   72   73   76\n",
      "   79   80   92   94   96   97   98  100  111  117  121  122  124  127\n",
      "  132  139  151  161  168  172  173  174  181  182  184  185  186  187\n",
      "  188  193  194  195  196  200  201  202  204  205  210  215  216  217\n",
      "  218  219  226  227  228  229  230  231  232  233  234  237  239  274\n",
      "  281  282  284  318  356  367  373  385  386  391  393  399  401  402\n",
      "  403  405  406  412  415  419  421  423  426  427  431  443  449  450\n",
      "  468  470  471  475  485  508  526  541  546  549  559  566  568  569\n",
      "  570  576  581  585  595  609  614  625  655  672  685  717  720  721\n",
      "  722  724  732  739  756  763  765  785  794  796  808  816  824  825\n",
      "  831  840  928  941  943 1011 1028 1044 1047 1067 1074 1188 1228 1330]\n",
      "id_ratings: [5 3 4 5 4 4 4 4 4 4 3 4 5 4 1 3 4 5 5 4 3 5 4 4 5 2 3 4 5 2 5 4 4 2 5 5 4\n",
      " 4 3 1 3 5 3 1 4 4 2 4 5 4 4 5 5 2 5 5 4 4 5 4 5 4 5 2 3 5 4 5 4 3 4 4 4 1\n",
      " 3 2 1 2 4 5 3 4 5 3 4 5 2 3 4 4 3 4 1 2 2 1 1 2 4 4 3 2 1 2 2 3 4 4 4 2 1\n",
      " 1 2 4 5 5 5 5 4 4 4 1 4 4 3 2 1 4 4 1 2 2 5 3 4 5 4 4 1 5 3 1 4 4 2 4 3 2\n",
      " 3 3 4 4 4 3 2 4 5 1 5 2 2 3 2 2 4 3 3 3]\n",
      "ratings: [0. 5. 0. ... 0. 0. 0.]\n",
      "id_movies: []\n",
      "id_ratings: []\n",
      "ratings: [0. 0. 0. ... 0. 0. 0.]\n"
     ]
    }
   ],
   "source": [
    "training_set=convert(training_set)\n",
    "test_set=convert(test_set)"
   ]
  },
  {
   "cell_type": "code",
   "execution_count": 65,
   "id": "23d130a5-d972-4770-8a16-60434fc3265c",
   "metadata": {},
   "outputs": [],
   "source": [
    "#convert data into torch sensor\n",
    "\n",
    "#convert the numpy array into Tensor \n",
    "training_set=torch.FloatTensor(training_set)\n",
    "test_set=torch.FloatTensor(test_set)"
   ]
  },
  {
   "cell_type": "code",
   "execution_count": 67,
   "id": "72bc4753-7164-49b6-816b-3e2586a2fb89",
   "metadata": {},
   "outputs": [],
   "source": [
    "#binary conversion of data [1 liked, 0 not liked]\n",
    "\n",
    "#array index values are the star ratings [0-5]\n",
    "training_set[training_set==0]=-1\n",
    "training_set[training_set==1]=0\n",
    "training_set[training_set==2]=0\n",
    "training_set[training_set>=3]=1\n",
    "\n",
    "test_set[test_set==0]=-1\n",
    "test_set[test_set==1]=0\n",
    "test_set[test_set==2]=0\n",
    "test_set[test_set>=3]=1"
   ]
  },
  {
   "cell_type": "code",
   "execution_count": 69,
   "id": "c7aef6cd-fa64-4fc2-8b0b-34b7444f4744",
   "metadata": {},
   "outputs": [
    {
     "data": {
      "text/plain": [
       "tensor([[ 1.,  1.,  1.,  ..., -1., -1., -1.],\n",
       "        [ 1., -1., -1.,  ..., -1., -1., -1.],\n",
       "        [-1., -1., -1.,  ..., -1., -1., -1.],\n",
       "        ...,\n",
       "        [ 1., -1., -1.,  ..., -1., -1., -1.],\n",
       "        [-1., -1., -1.,  ..., -1., -1., -1.],\n",
       "        [-1.,  1., -1.,  ..., -1., -1., -1.]])"
      ]
     },
     "execution_count": 69,
     "metadata": {},
     "output_type": "execute_result"
    }
   ],
   "source": [
    "training_set"
   ]
  },
  {
   "cell_type": "code",
   "execution_count": 71,
   "id": "0ba2d077-87e3-49fb-b120-8732c8d8fa98",
   "metadata": {},
   "outputs": [
    {
     "data": {
      "text/plain": [
       "tensor([[-1., -1., -1.,  ..., -1., -1., -1.],\n",
       "        [-1., -1., -1.,  ..., -1., -1., -1.],\n",
       "        [-1., -1., -1.,  ..., -1., -1., -1.],\n",
       "        ...,\n",
       "        [-1., -1., -1.,  ..., -1., -1., -1.],\n",
       "        [-1., -1., -1.,  ..., -1., -1., -1.],\n",
       "        [-1., -1., -1.,  ..., -1., -1., -1.]])"
      ]
     },
     "execution_count": 71,
     "metadata": {},
     "output_type": "execute_result"
    }
   ],
   "source": [
    "test_set"
   ]
  },
  {
   "cell_type": "markdown",
   "id": "68629dd6-33da-480d-b159-09baa0e5dbce",
   "metadata": {},
   "source": [
    "# RBM Model"
   ]
  },
  {
   "cell_type": "code",
   "execution_count": null,
   "id": "ae9a8764-ae0c-4e05-bebf-0adb1cf9f116",
   "metadata": {},
   "outputs": [],
   "source": []
  },
  {
   "cell_type": "code",
   "execution_count": null,
   "id": "929982ae-4a56-4633-bbc0-092bd8bf5f57",
   "metadata": {},
   "outputs": [],
   "source": []
  },
  {
   "cell_type": "code",
   "execution_count": null,
   "id": "a36303b4-2778-41d2-9251-ada39a4003c9",
   "metadata": {},
   "outputs": [],
   "source": []
  },
  {
   "cell_type": "code",
   "execution_count": null,
   "id": "76740cee-311e-4e4b-8c9e-4e54666e98a2",
   "metadata": {},
   "outputs": [],
   "source": []
  },
  {
   "cell_type": "code",
   "execution_count": null,
   "id": "20b15c05-df4b-4e39-82d3-f8d3e74403f3",
   "metadata": {},
   "outputs": [],
   "source": []
  }
 ],
 "metadata": {
  "kernelspec": {
   "display_name": "Python [conda env:base] *",
   "language": "python",
   "name": "conda-base-py"
  },
  "language_info": {
   "codemirror_mode": {
    "name": "ipython",
    "version": 3
   },
   "file_extension": ".py",
   "mimetype": "text/x-python",
   "name": "python",
   "nbconvert_exporter": "python",
   "pygments_lexer": "ipython3",
   "version": "3.12.7"
  }
 },
 "nbformat": 4,
 "nbformat_minor": 5
}
