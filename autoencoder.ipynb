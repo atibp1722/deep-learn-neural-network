{
 "cells": [
  {
   "cell_type": "code",
   "execution_count": null,
   "id": "f86230e9-f753-48aa-b25e-b90908e51d4e",
   "metadata": {},
   "outputs": [],
   "source": [
    "import numpy as np\n",
    "import matplotlib.pyplot as plt\n",
    "\n",
    "from keras.models import Model\n",
    "from keras.layers import Input,Dense\n",
    "from keras.dataset import mnist"
   ]
  },
  {
   "cell_type": "code",
   "execution_count": null,
   "id": "d342c370-54d0-4317-b46d-36db19f611bb",
   "metadata": {},
   "outputs": [],
   "source": [
    "#dimension of the encoded image\n",
    "encoding_dim=64"
   ]
  },
  {
   "cell_type": "code",
   "execution_count": null,
   "id": "ca05f764-4ad8-4055-9e7f-912f3ecd01eb",
   "metadata": {},
   "outputs": [],
   "source": [
    "#read the input image after flattenning it from 28x28 to 1d array of 784 pixels\n",
    "input_img=Input(shape=(784,))\n",
    "\n",
    "#compress to a dense fully connected layer using relu activation\n",
    "encoded=Dense(encdoing_dim,activation='relu')(input_img)\n",
    "#reconstruct the image to its 1d representatino using sigmoid\n",
    "decoded=Dense(784,activation='sigmoid')(encoded)\n",
    "\n",
    "#map image to its flattened rpresentation\n",
    "autoencoder=Model(input_img,decoded)\n",
    "\n",
    "#map image to its encoded representation\n",
    "encoder=Model(input_img,encoded)"
   ]
  },
  {
   "cell_type": "code",
   "execution_count": null,
   "id": "4834d8f8-cef2-4c9b-8b9a-a210aceef781",
   "metadata": {},
   "outputs": [],
   "source": []
  },
  {
   "cell_type": "code",
   "execution_count": null,
   "id": "6e21f885-46ab-4caa-91f0-90ab88e44fad",
   "metadata": {},
   "outputs": [],
   "source": []
  },
  {
   "cell_type": "code",
   "execution_count": null,
   "id": "d5ae2ce1-754e-46fa-92f2-d576caea92e5",
   "metadata": {},
   "outputs": [],
   "source": []
  }
 ],
 "metadata": {
  "kernelspec": {
   "display_name": "Python [conda env:base] *",
   "language": "python",
   "name": "conda-base-py"
  },
  "language_info": {
   "codemirror_mode": {
    "name": "ipython",
    "version": 3
   },
   "file_extension": ".py",
   "mimetype": "text/x-python",
   "name": "python",
   "nbconvert_exporter": "python",
   "pygments_lexer": "ipython3",
   "version": "3.12.7"
  }
 },
 "nbformat": 4,
 "nbformat_minor": 5
}
