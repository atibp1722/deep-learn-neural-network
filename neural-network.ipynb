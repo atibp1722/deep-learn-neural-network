{
 "cells": [
  {
   "cell_type": "markdown",
   "id": "6fb97fda-96b3-488c-be2f-1d5b20d2d385",
   "metadata": {},
   "source": [
    "# neural network "
   ]
  },
  {
   "cell_type": "code",
   "execution_count": null,
   "id": "d1c8dc8e-2d6e-4f1d-8dd3-77b6494eaa74",
   "metadata": {},
   "outputs": [],
   "source": [
    "import numpy as np"
   ]
  },
  {
   "cell_type": "code",
   "execution_count": null,
   "id": "4b5984e2-fae3-423e-95c8-871179aa537b",
   "metadata": {},
   "outputs": [],
   "source": [
    "# function for making sure value falls within 0 and 1\n",
    "def sigmoid(t):\n",
    "    return 1/(1+np.exp(-t))\n",
    "\n",
    "# the measure of output of sigmoid function based on how it changes if inputs are slightly adjusted\n",
    "def sigmoid_derivative(p):\n",
    "    return p*(1-p)"
   ]
  },
  {
   "cell_type": "code",
   "execution_count": null,
   "id": "fa7c85b2-a908-429a-baeb-fbcd7208f061",
   "metadata": {},
   "outputs": [],
   "source": [
    "class NeuralNetwork:\n",
    "    def __init__(self,x,y):\n",
    "        self.input=x\n",
    "        # initializing random weights\n",
    "        self.weights1=np.random.rand(self.input.shape[1],4)\n",
    "        self.weights2=np.random.rand(4,1)\n",
    "        self.y=y\n",
    "        self.output=np.zeros(y.shape)\n",
    "\n",
    "    # the model moves forward where output of the previous layer becomes the input for its successive layer\n",
    "    def feed_forward(self):\n",
    "        # sigmoid function makes the value from 0 to 1\n",
    "        self.layer1=sigmoid(np.dot(self.input,self.weights1))\n",
    "        self.output=sigmoid(np.dot(self.layer1,self.weights2))\n",
    "\n",
    "    # the values for the model need to propagate backwards to update with new values\n",
    "    # it is the chain rule to find derivative of the loss function with respect to weights1, weights2\n",
    "    def back_propagation(self):\n",
    "        d_weights2=np.dot(self.layer1.T,(2*self.y-self.output*\n",
    "                   sigmoid_derivative(self.output)))\n",
    "        d_weights1=np.dot(self.input.T,(np.dot(2*(self.y-self.output)\n",
    "                    *sigmoid_derivative(self.output),self.weights2.T)* \n",
    "                    sigmoid_derivative(self.layer1)))\n",
    "\n",
    "        # update the value of weights with the derivative of the loss function\n",
    "        self.weights1+=d-weights1\n",
    "        self.weights2=d_weights2\n",
    "\n",
    "    def train(self):\n",
    "        self.output=self.feedforward()\n",
    "        self.back_propagation()"
   ]
  },
  {
   "cell_type": "code",
   "execution_count": null,
   "id": "0250de92-f50c-4116-8fbd-155232a22c1a",
   "metadata": {},
   "outputs": [],
   "source": [
    "print (\"Input: \\n\" + str(X))\n",
    "print (\"\\nActual Output: \\n\" + str(y))"
   ]
  },
  {
   "cell_type": "code",
   "execution_count": null,
   "id": "2970040e-cb01-4036-828f-63ccf6a88265",
   "metadata": {},
   "outputs": [],
   "source": []
  },
  {
   "cell_type": "code",
   "execution_count": null,
   "id": "8fbb1504-3ab7-4b20-a44a-7051dde584f0",
   "metadata": {},
   "outputs": [],
   "source": []
  },
  {
   "cell_type": "code",
   "execution_count": null,
   "id": "dde63a84-960f-43bf-a7ca-3bc03b777c65",
   "metadata": {},
   "outputs": [],
   "source": []
  }
 ],
 "metadata": {
  "kernelspec": {
   "display_name": "Python [conda env:base] *",
   "language": "python",
   "name": "conda-base-py"
  },
  "language_info": {
   "codemirror_mode": {
    "name": "ipython",
    "version": 3
   },
   "file_extension": ".py",
   "mimetype": "text/x-python",
   "name": "python",
   "nbconvert_exporter": "python",
   "pygments_lexer": "ipython3",
   "version": "3.12.7"
  }
 },
 "nbformat": 4,
 "nbformat_minor": 5
}
