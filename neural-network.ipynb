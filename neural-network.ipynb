{
 "cells": [
  {
   "cell_type": "markdown",
   "id": "6fb97fda-96b3-488c-be2f-1d5b20d2d385",
   "metadata": {},
   "source": [
    "# neural network "
   ]
  },
  {
   "cell_type": "code",
   "execution_count": null,
   "id": "d1c8dc8e-2d6e-4f1d-8dd3-77b6494eaa74",
   "metadata": {},
   "outputs": [],
   "source": [
    "import numpy as np"
   ]
  },
  {
   "cell_type": "code",
   "execution_count": null,
   "id": "fa7c85b2-a908-429a-baeb-fbcd7208f061",
   "metadata": {},
   "outputs": [],
   "source": [
    "class NeuralNetwork:\n",
    "    def __init__(self,x,y):\n",
    "        self.input=x\n",
    "        # initializing random weights\n",
    "        self.weights1=np.random.rand(self.input.shape[1],4)\n",
    "        self.weights2=np.random.rand(4,1)\n",
    "        self.y=y\n",
    "        self.output=np.zeros(y.shape)\n",
    "\n",
    "    # the model moves forward where output of the previous layer becomes the inut for its successive layer\n",
    "    def feed_forward(self):\n",
    "        # sigmoid function makes the value from 0 to 1\n",
    "        self.layer1=sigmoid(np.dot(self.input,self.weights1))\n",
    "        self.output=sigmoid(np.dot(self.layer1,self.weights2))"
   ]
  },
  {
   "cell_type": "code",
   "execution_count": null,
   "id": "0250de92-f50c-4116-8fbd-155232a22c1a",
   "metadata": {},
   "outputs": [],
   "source": []
  },
  {
   "cell_type": "code",
   "execution_count": null,
   "id": "2970040e-cb01-4036-828f-63ccf6a88265",
   "metadata": {},
   "outputs": [],
   "source": []
  },
  {
   "cell_type": "code",
   "execution_count": null,
   "id": "8fbb1504-3ab7-4b20-a44a-7051dde584f0",
   "metadata": {},
   "outputs": [],
   "source": []
  },
  {
   "cell_type": "code",
   "execution_count": null,
   "id": "dde63a84-960f-43bf-a7ca-3bc03b777c65",
   "metadata": {},
   "outputs": [],
   "source": []
  }
 ],
 "metadata": {
  "kernelspec": {
   "display_name": "Python [conda env:base] *",
   "language": "python",
   "name": "conda-base-py"
  },
  "language_info": {
   "codemirror_mode": {
    "name": "ipython",
    "version": 3
   },
   "file_extension": ".py",
   "mimetype": "text/x-python",
   "name": "python",
   "nbconvert_exporter": "python",
   "pygments_lexer": "ipython3",
   "version": "3.12.7"
  }
 },
 "nbformat": 4,
 "nbformat_minor": 5
}
